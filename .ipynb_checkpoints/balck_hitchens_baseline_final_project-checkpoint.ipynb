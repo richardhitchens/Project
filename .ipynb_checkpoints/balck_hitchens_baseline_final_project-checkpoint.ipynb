{
 "cells": [
  {
   "cell_type": "markdown",
   "metadata": {},
   "source": [
    "For this competition, you are tasked with categorizing shopping trip types based on the items that customers purchased. To give a few hypothetical examples of trip types: a customer may make a small daily dinner trip, a weekly large grocery trip, a trip to buy gifts for an upcoming holiday, or a seasonal trip to buy clothes.\n",
    "\n",
    "Walmart has categorized the trips contained in this data into 38 distinct types using a proprietary method applied to an extended set of data. You are challenged to recreate this categorization/clustering with a more limited set of features. This could provide new and more robust ways to categorize trips.\n",
    "\n",
    "The training set (train.csv) contains a large number of customer visits with the TripType included. You must predict the TripType for each customer visit in the test set (test.csv). Each visit may only have one TripType. You will not be provided with more information than what is given in the data (e.g. what the TripTypes represent or more product information).\n",
    "\n",
    "The test set file is encrypted. You must complete this brief survey to receive the password.\n",
    "\n",
    "Data fields\n",
    "\n",
    "TripType - a categorical id representing the type of shopping trip the customer made. This is the ground truth that you are predicting. TripType_999 is an \"other\" category.\n",
    "\n",
    "VisitNumber - an id corresponding to a single trip by a single customer\n",
    "\n",
    "Weekday - the weekday of the trip\n",
    "\n",
    "Upc - the UPC number of the product purchased\n",
    "\n",
    "ScanCount - the number of the given item that was purchased. A negative value indicates a product return.\n",
    "\n",
    "DepartmentDescription - a high-level description of the item's department\n",
    "\n",
    "FinelineNumber - a more refined category for each of the products, created by Walmart"
   ]
  },
  {
   "cell_type": "code",
   "execution_count": 882,
   "metadata": {
    "collapsed": false
   },
   "outputs": [],
   "source": [
    "# This tells matplotlib not to try opening a new window for each plot.\n",
    "%matplotlib inline\n",
    "\n",
    "# General libraries.\n",
    "import re\n",
    "import numpy as np\n",
    "import pandas as pd\n",
    "import matplotlib.pyplot as plt\n",
    "\n",
    "# SK-learn libraries for learning.\n",
    "from sklearn.pipeline import Pipeline\n",
    "from sklearn.neighbors import KNeighborsClassifier\n",
    "from sklearn.linear_model import LogisticRegression\n",
    "from sklearn.naive_bayes import BernoulliNB\n",
    "from sklearn.naive_bayes import MultinomialNB\n",
    "from sklearn.grid_search import GridSearchCV\n",
    "\n",
    "# SK-learn libraries for evaluation.\n",
    "from sklearn.metrics import confusion_matrix\n",
    "from sklearn import metrics\n",
    "from sklearn.metrics import classification_report\n",
    "\n",
    "from scipy.sparse import *\n",
    "\n",
    "convert_zeroes = True"
   ]
  },
  {
   "cell_type": "markdown",
   "metadata": {},
   "source": [
    "### Read in Training Data"
   ]
  },
  {
   "cell_type": "code",
   "execution_count": 883,
   "metadata": {
    "collapsed": false,
    "scrolled": true
   },
   "outputs": [
    {
     "data": {
      "text/html": [
       "<div>\n",
       "<table border=\"1\" class=\"dataframe\">\n",
       "  <thead>\n",
       "    <tr style=\"text-align: right;\">\n",
       "      <th></th>\n",
       "      <th>TripType</th>\n",
       "      <th>VisitNumber</th>\n",
       "      <th>Weekday</th>\n",
       "      <th>Upc</th>\n",
       "      <th>ScanCount</th>\n",
       "      <th>DepartmentDescription</th>\n",
       "      <th>FinelineNumber</th>\n",
       "    </tr>\n",
       "  </thead>\n",
       "  <tbody>\n",
       "    <tr>\n",
       "      <th>0</th>\n",
       "      <td>999</td>\n",
       "      <td>5</td>\n",
       "      <td>Friday</td>\n",
       "      <td>6.811315e+10</td>\n",
       "      <td>-1</td>\n",
       "      <td>FINANCIAL SERVICES</td>\n",
       "      <td>1000.0</td>\n",
       "    </tr>\n",
       "    <tr>\n",
       "      <th>1</th>\n",
       "      <td>30</td>\n",
       "      <td>7</td>\n",
       "      <td>Friday</td>\n",
       "      <td>6.053882e+10</td>\n",
       "      <td>1</td>\n",
       "      <td>SHOES</td>\n",
       "      <td>8931.0</td>\n",
       "    </tr>\n",
       "    <tr>\n",
       "      <th>2</th>\n",
       "      <td>30</td>\n",
       "      <td>7</td>\n",
       "      <td>Friday</td>\n",
       "      <td>7.410811e+09</td>\n",
       "      <td>1</td>\n",
       "      <td>PERSONAL CARE</td>\n",
       "      <td>4504.0</td>\n",
       "    </tr>\n",
       "    <tr>\n",
       "      <th>3</th>\n",
       "      <td>26</td>\n",
       "      <td>8</td>\n",
       "      <td>Friday</td>\n",
       "      <td>NaN</td>\n",
       "      <td>1</td>\n",
       "      <td>NaN</td>\n",
       "      <td>NaN</td>\n",
       "    </tr>\n",
       "    <tr>\n",
       "      <th>4</th>\n",
       "      <td>26</td>\n",
       "      <td>8</td>\n",
       "      <td>Friday</td>\n",
       "      <td>3.270011e+09</td>\n",
       "      <td>3</td>\n",
       "      <td>PETS AND SUPPLIES</td>\n",
       "      <td>1001.0</td>\n",
       "    </tr>\n",
       "  </tbody>\n",
       "</table>\n",
       "</div>"
      ],
      "text/plain": [
       "   TripType  VisitNumber Weekday           Upc  ScanCount  \\\n",
       "0       999            5  Friday  6.811315e+10         -1   \n",
       "1        30            7  Friday  6.053882e+10          1   \n",
       "2        30            7  Friday  7.410811e+09          1   \n",
       "3        26            8  Friday           NaN          1   \n",
       "4        26            8  Friday  3.270011e+09          3   \n",
       "\n",
       "  DepartmentDescription  FinelineNumber  \n",
       "0    FINANCIAL SERVICES          1000.0  \n",
       "1                 SHOES          8931.0  \n",
       "2         PERSONAL CARE          4504.0  \n",
       "3                   NaN             NaN  \n",
       "4     PETS AND SUPPLIES          1001.0  "
      ]
     },
     "execution_count": 883,
     "metadata": {},
     "output_type": "execute_result"
    }
   ],
   "source": [
    "# Read in the training data from the file and load into a DataFrame\n",
    "df = pd.read_csv('train.csv')\n",
    "# sort by VisitNumber to ensure everything is in the right order  \n",
    "df = df.sort_values('VisitNumber')\n",
    "df = df.reset_index()\n",
    "del df['index']\n",
    "df.head(5)"
   ]
  },
  {
   "cell_type": "code",
   "execution_count": 884,
   "metadata": {
    "collapsed": false
   },
   "outputs": [
    {
     "data": {
      "text/plain": [
       "TripType                    38\n",
       "VisitNumber              95674\n",
       "Weekday                      7\n",
       "Upc                      97714\n",
       "ScanCount                   39\n",
       "DepartmentDescription       68\n",
       "FinelineNumber            5195\n",
       "dtype: int64"
      ]
     },
     "execution_count": 884,
     "metadata": {},
     "output_type": "execute_result"
    }
   ],
   "source": [
    "# check number of unique items per field\n",
    "df.apply(lambda x: x.nunique(), axis=0)"
   ]
  },
  {
   "cell_type": "markdown",
   "metadata": {},
   "source": [
    "#### Check Null values"
   ]
  },
  {
   "cell_type": "code",
   "execution_count": 885,
   "metadata": {
    "collapsed": false
   },
   "outputs": [
    {
     "data": {
      "text/plain": [
       "TripType                    0\n",
       "VisitNumber                 0\n",
       "Weekday                     0\n",
       "Upc                      4129\n",
       "ScanCount                   0\n",
       "DepartmentDescription    1361\n",
       "FinelineNumber           4129\n",
       "dtype: int64"
      ]
     },
     "execution_count": 885,
     "metadata": {},
     "output_type": "execute_result"
    }
   ],
   "source": [
    "# Check for null values\n",
    "df.isnull().sum(axis=0)"
   ]
  },
  {
   "cell_type": "code",
   "execution_count": 886,
   "metadata": {
    "collapsed": false
   },
   "outputs": [
    {
     "data": {
      "text/plain": [
       "4129"
      ]
     },
     "execution_count": 886,
     "metadata": {},
     "output_type": "execute_result"
    }
   ],
   "source": [
    "# Number of rows with nulls for Upc and FinelineNumber\n",
    "my_filter = df['Upc'].isnull() & df['FinelineNumber'].isnull()\n",
    "df[my_filter].shape[0]"
   ]
  },
  {
   "cell_type": "code",
   "execution_count": 887,
   "metadata": {
    "collapsed": false
   },
   "outputs": [
    {
     "data": {
      "text/html": [
       "<div>\n",
       "<table border=\"1\" class=\"dataframe\">\n",
       "  <thead>\n",
       "    <tr style=\"text-align: right;\">\n",
       "      <th></th>\n",
       "      <th>DepartmentDescription</th>\n",
       "      <th>ScanCount</th>\n",
       "    </tr>\n",
       "  </thead>\n",
       "  <tbody>\n",
       "    <tr>\n",
       "      <th>0</th>\n",
       "      <td>PHARMACY RX</td>\n",
       "      <td>2768</td>\n",
       "    </tr>\n",
       "  </tbody>\n",
       "</table>\n",
       "</div>"
      ],
      "text/plain": [
       "  DepartmentDescription  ScanCount\n",
       "0           PHARMACY RX       2768"
      ]
     },
     "execution_count": 887,
     "metadata": {},
     "output_type": "execute_result"
    }
   ],
   "source": [
    "# DepartmentDescription where Upc and FinelineNumber is null\n",
    "df[my_filter].groupby(['DepartmentDescription'], as_index=False)['ScanCount'].count()"
   ]
  },
  {
   "cell_type": "code",
   "execution_count": 888,
   "metadata": {
    "collapsed": false
   },
   "outputs": [
    {
     "data": {
      "text/html": [
       "<div>\n",
       "<table border=\"1\" class=\"dataframe\">\n",
       "  <thead>\n",
       "    <tr style=\"text-align: right;\">\n",
       "      <th></th>\n",
       "      <th>DepartmentDescription</th>\n",
       "      <th>ScanCount</th>\n",
       "      <th>TripType</th>\n",
       "    </tr>\n",
       "  </thead>\n",
       "  <tbody>\n",
       "    <tr>\n",
       "      <th>0</th>\n",
       "      <td>PHARMACY RX</td>\n",
       "      <td>-1</td>\n",
       "      <td>67</td>\n",
       "    </tr>\n",
       "    <tr>\n",
       "      <th>1</th>\n",
       "      <td>PHARMACY RX</td>\n",
       "      <td>1</td>\n",
       "      <td>2697</td>\n",
       "    </tr>\n",
       "    <tr>\n",
       "      <th>2</th>\n",
       "      <td>PHARMACY RX</td>\n",
       "      <td>2</td>\n",
       "      <td>4</td>\n",
       "    </tr>\n",
       "  </tbody>\n",
       "</table>\n",
       "</div>"
      ],
      "text/plain": [
       "  DepartmentDescription  ScanCount  TripType\n",
       "0           PHARMACY RX         -1        67\n",
       "1           PHARMACY RX          1      2697\n",
       "2           PHARMACY RX          2         4"
      ]
     },
     "execution_count": 888,
     "metadata": {},
     "output_type": "execute_result"
    }
   ],
   "source": [
    "# How many units normally purchased or returned?\n",
    "df[my_filter].groupby(['DepartmentDescription','ScanCount'], as_index=False)['TripType'].count()"
   ]
  },
  {
   "cell_type": "code",
   "execution_count": 889,
   "metadata": {
    "collapsed": false
   },
   "outputs": [
    {
     "data": {
      "text/html": [
       "<div>\n",
       "<table border=\"1\" class=\"dataframe\">\n",
       "  <thead>\n",
       "    <tr style=\"text-align: right;\">\n",
       "      <th></th>\n",
       "      <th>TripType</th>\n",
       "      <th>ScanCount</th>\n",
       "    </tr>\n",
       "  </thead>\n",
       "  <tbody>\n",
       "    <tr>\n",
       "      <th>2</th>\n",
       "      <td>5</td>\n",
       "      <td>2583</td>\n",
       "    </tr>\n",
       "    <tr>\n",
       "      <th>35</th>\n",
       "      <td>999</td>\n",
       "      <td>352</td>\n",
       "    </tr>\n",
       "    <tr>\n",
       "      <th>30</th>\n",
       "      <td>40</td>\n",
       "      <td>193</td>\n",
       "    </tr>\n",
       "    <tr>\n",
       "      <th>29</th>\n",
       "      <td>39</td>\n",
       "      <td>135</td>\n",
       "    </tr>\n",
       "    <tr>\n",
       "      <th>15</th>\n",
       "      <td>25</td>\n",
       "      <td>116</td>\n",
       "    </tr>\n",
       "  </tbody>\n",
       "</table>\n",
       "</div>"
      ],
      "text/plain": [
       "    TripType  ScanCount\n",
       "2          5       2583\n",
       "35       999        352\n",
       "30        40        193\n",
       "29        39        135\n",
       "15        25        116"
      ]
     },
     "execution_count": 889,
     "metadata": {},
     "output_type": "execute_result"
    }
   ],
   "source": [
    "# Are the nulls typically associated with a given trip type? Mostly TripType5 \n",
    "df[my_filter].groupby(['TripType'], as_index=False)['ScanCount'].count().sort_values('ScanCount',ascending=False).head()"
   ]
  },
  {
   "cell_type": "code",
   "execution_count": 890,
   "metadata": {
    "collapsed": false
   },
   "outputs": [
    {
     "data": {
      "text/html": [
       "<div>\n",
       "<table border=\"1\" class=\"dataframe\">\n",
       "  <thead>\n",
       "    <tr style=\"text-align: right;\">\n",
       "      <th></th>\n",
       "      <th>DepartmentDescription</th>\n",
       "      <th>ScanCount</th>\n",
       "    </tr>\n",
       "  </thead>\n",
       "  <tbody>\n",
       "    <tr>\n",
       "      <th>47</th>\n",
       "      <td>PHARMACY OTC</td>\n",
       "      <td>5281</td>\n",
       "    </tr>\n",
       "    <tr>\n",
       "      <th>48</th>\n",
       "      <td>PHARMACY RX</td>\n",
       "      <td>2714</td>\n",
       "    </tr>\n",
       "    <tr>\n",
       "      <th>45</th>\n",
       "      <td>PERSONAL CARE</td>\n",
       "      <td>922</td>\n",
       "    </tr>\n",
       "    <tr>\n",
       "      <th>16</th>\n",
       "      <td>DSD GROCERY</td>\n",
       "      <td>614</td>\n",
       "    </tr>\n",
       "    <tr>\n",
       "      <th>29</th>\n",
       "      <td>IMPULSE MERCHANDISE</td>\n",
       "      <td>519</td>\n",
       "    </tr>\n",
       "    <tr>\n",
       "      <th>51</th>\n",
       "      <td>PRODUCE</td>\n",
       "      <td>435</td>\n",
       "    </tr>\n",
       "    <tr>\n",
       "      <th>42</th>\n",
       "      <td>OPTICAL - FRAMES</td>\n",
       "      <td>396</td>\n",
       "    </tr>\n",
       "    <tr>\n",
       "      <th>22</th>\n",
       "      <td>GROCERY DRY GOODS</td>\n",
       "      <td>384</td>\n",
       "    </tr>\n",
       "    <tr>\n",
       "      <th>15</th>\n",
       "      <td>DAIRY</td>\n",
       "      <td>237</td>\n",
       "    </tr>\n",
       "    <tr>\n",
       "      <th>5</th>\n",
       "      <td>BEAUTY</td>\n",
       "      <td>232</td>\n",
       "    </tr>\n",
       "    <tr>\n",
       "      <th>27</th>\n",
       "      <td>HOUSEHOLD CHEMICALS/SUPP</td>\n",
       "      <td>142</td>\n",
       "    </tr>\n",
       "    <tr>\n",
       "      <th>11</th>\n",
       "      <td>CANDY, TOBACCO, COOKIES</td>\n",
       "      <td>133</td>\n",
       "    </tr>\n",
       "    <tr>\n",
       "      <th>28</th>\n",
       "      <td>HOUSEHOLD PAPER GOODS</td>\n",
       "      <td>114</td>\n",
       "    </tr>\n",
       "    <tr>\n",
       "      <th>20</th>\n",
       "      <td>FROZEN FOODS</td>\n",
       "      <td>114</td>\n",
       "    </tr>\n",
       "    <tr>\n",
       "      <th>54</th>\n",
       "      <td>SERVICE DELI</td>\n",
       "      <td>97</td>\n",
       "    </tr>\n",
       "  </tbody>\n",
       "</table>\n",
       "</div>"
      ],
      "text/plain": [
       "       DepartmentDescription  ScanCount\n",
       "47              PHARMACY OTC       5281\n",
       "48               PHARMACY RX       2714\n",
       "45             PERSONAL CARE        922\n",
       "16               DSD GROCERY        614\n",
       "29       IMPULSE MERCHANDISE        519\n",
       "51                   PRODUCE        435\n",
       "42          OPTICAL - FRAMES        396\n",
       "22         GROCERY DRY GOODS        384\n",
       "15                     DAIRY        237\n",
       "5                     BEAUTY        232\n",
       "27  HOUSEHOLD CHEMICALS/SUPP        142\n",
       "11   CANDY, TOBACCO, COOKIES        133\n",
       "28     HOUSEHOLD PAPER GOODS        114\n",
       "20              FROZEN FOODS        114\n",
       "54              SERVICE DELI         97"
      ]
     },
     "execution_count": 890,
     "metadata": {},
     "output_type": "execute_result"
    }
   ],
   "source": [
    "df[df['TripType']==5].groupby(['DepartmentDescription'], as_index=False)['ScanCount'].count().sort_values('ScanCount',ascending=False).head(15)"
   ]
  },
  {
   "cell_type": "code",
   "execution_count": 891,
   "metadata": {
    "collapsed": false
   },
   "outputs": [
    {
     "data": {
      "text/html": [
       "<div>\n",
       "<table border=\"1\" class=\"dataframe\">\n",
       "  <thead>\n",
       "    <tr style=\"text-align: right;\">\n",
       "      <th></th>\n",
       "      <th>TripType</th>\n",
       "      <th>ScanCount</th>\n",
       "    </tr>\n",
       "  </thead>\n",
       "  <tbody>\n",
       "    <tr>\n",
       "      <th>0</th>\n",
       "      <td>3</td>\n",
       "      <td>5</td>\n",
       "    </tr>\n",
       "    <tr>\n",
       "      <th>1</th>\n",
       "      <td>4</td>\n",
       "      <td>1</td>\n",
       "    </tr>\n",
       "    <tr>\n",
       "      <th>2</th>\n",
       "      <td>5</td>\n",
       "      <td>13</td>\n",
       "    </tr>\n",
       "    <tr>\n",
       "      <th>3</th>\n",
       "      <td>6</td>\n",
       "      <td>3</td>\n",
       "    </tr>\n",
       "    <tr>\n",
       "      <th>4</th>\n",
       "      <td>7</td>\n",
       "      <td>29</td>\n",
       "    </tr>\n",
       "    <tr>\n",
       "      <th>5</th>\n",
       "      <td>8</td>\n",
       "      <td>68</td>\n",
       "    </tr>\n",
       "    <tr>\n",
       "      <th>6</th>\n",
       "      <td>9</td>\n",
       "      <td>79</td>\n",
       "    </tr>\n",
       "    <tr>\n",
       "      <th>7</th>\n",
       "      <td>12</td>\n",
       "      <td>4</td>\n",
       "    </tr>\n",
       "    <tr>\n",
       "      <th>8</th>\n",
       "      <td>15</td>\n",
       "      <td>21</td>\n",
       "    </tr>\n",
       "    <tr>\n",
       "      <th>9</th>\n",
       "      <td>18</td>\n",
       "      <td>6</td>\n",
       "    </tr>\n",
       "    <tr>\n",
       "      <th>10</th>\n",
       "      <td>19</td>\n",
       "      <td>1</td>\n",
       "    </tr>\n",
       "    <tr>\n",
       "      <th>11</th>\n",
       "      <td>20</td>\n",
       "      <td>6</td>\n",
       "    </tr>\n",
       "    <tr>\n",
       "      <th>12</th>\n",
       "      <td>21</td>\n",
       "      <td>7</td>\n",
       "    </tr>\n",
       "    <tr>\n",
       "      <th>13</th>\n",
       "      <td>22</td>\n",
       "      <td>11</td>\n",
       "    </tr>\n",
       "    <tr>\n",
       "      <th>14</th>\n",
       "      <td>24</td>\n",
       "      <td>48</td>\n",
       "    </tr>\n",
       "    <tr>\n",
       "      <th>15</th>\n",
       "      <td>25</td>\n",
       "      <td>110</td>\n",
       "    </tr>\n",
       "    <tr>\n",
       "      <th>16</th>\n",
       "      <td>26</td>\n",
       "      <td>4</td>\n",
       "    </tr>\n",
       "    <tr>\n",
       "      <th>17</th>\n",
       "      <td>27</td>\n",
       "      <td>12</td>\n",
       "    </tr>\n",
       "    <tr>\n",
       "      <th>18</th>\n",
       "      <td>28</td>\n",
       "      <td>5</td>\n",
       "    </tr>\n",
       "    <tr>\n",
       "      <th>19</th>\n",
       "      <td>29</td>\n",
       "      <td>5</td>\n",
       "    </tr>\n",
       "    <tr>\n",
       "      <th>20</th>\n",
       "      <td>30</td>\n",
       "      <td>15</td>\n",
       "    </tr>\n",
       "    <tr>\n",
       "      <th>21</th>\n",
       "      <td>31</td>\n",
       "      <td>4</td>\n",
       "    </tr>\n",
       "    <tr>\n",
       "      <th>22</th>\n",
       "      <td>32</td>\n",
       "      <td>31</td>\n",
       "    </tr>\n",
       "    <tr>\n",
       "      <th>23</th>\n",
       "      <td>33</td>\n",
       "      <td>16</td>\n",
       "    </tr>\n",
       "    <tr>\n",
       "      <th>24</th>\n",
       "      <td>34</td>\n",
       "      <td>10</td>\n",
       "    </tr>\n",
       "    <tr>\n",
       "      <th>25</th>\n",
       "      <td>35</td>\n",
       "      <td>9</td>\n",
       "    </tr>\n",
       "    <tr>\n",
       "      <th>26</th>\n",
       "      <td>36</td>\n",
       "      <td>27</td>\n",
       "    </tr>\n",
       "    <tr>\n",
       "      <th>27</th>\n",
       "      <td>37</td>\n",
       "      <td>68</td>\n",
       "    </tr>\n",
       "    <tr>\n",
       "      <th>28</th>\n",
       "      <td>38</td>\n",
       "      <td>37</td>\n",
       "    </tr>\n",
       "    <tr>\n",
       "      <th>29</th>\n",
       "      <td>39</td>\n",
       "      <td>122</td>\n",
       "    </tr>\n",
       "    <tr>\n",
       "      <th>30</th>\n",
       "      <td>40</td>\n",
       "      <td>191</td>\n",
       "    </tr>\n",
       "    <tr>\n",
       "      <th>31</th>\n",
       "      <td>41</td>\n",
       "      <td>17</td>\n",
       "    </tr>\n",
       "    <tr>\n",
       "      <th>32</th>\n",
       "      <td>42</td>\n",
       "      <td>49</td>\n",
       "    </tr>\n",
       "    <tr>\n",
       "      <th>33</th>\n",
       "      <td>43</td>\n",
       "      <td>20</td>\n",
       "    </tr>\n",
       "    <tr>\n",
       "      <th>34</th>\n",
       "      <td>44</td>\n",
       "      <td>60</td>\n",
       "    </tr>\n",
       "    <tr>\n",
       "      <th>35</th>\n",
       "      <td>999</td>\n",
       "      <td>247</td>\n",
       "    </tr>\n",
       "  </tbody>\n",
       "</table>\n",
       "</div>"
      ],
      "text/plain": [
       "    TripType  ScanCount\n",
       "0          3          5\n",
       "1          4          1\n",
       "2          5         13\n",
       "3          6          3\n",
       "4          7         29\n",
       "5          8         68\n",
       "6          9         79\n",
       "7         12          4\n",
       "8         15         21\n",
       "9         18          6\n",
       "10        19          1\n",
       "11        20          6\n",
       "12        21          7\n",
       "13        22         11\n",
       "14        24         48\n",
       "15        25        110\n",
       "16        26          4\n",
       "17        27         12\n",
       "18        28          5\n",
       "19        29          5\n",
       "20        30         15\n",
       "21        31          4\n",
       "22        32         31\n",
       "23        33         16\n",
       "24        34         10\n",
       "25        35          9\n",
       "26        36         27\n",
       "27        37         68\n",
       "28        38         37\n",
       "29        39        122\n",
       "30        40        191\n",
       "31        41         17\n",
       "32        42         49\n",
       "33        43         20\n",
       "34        44         60\n",
       "35       999        247"
      ]
     },
     "execution_count": 891,
     "metadata": {},
     "output_type": "execute_result"
    }
   ],
   "source": [
    "# Other nulls are fairly broadly distributed across trip types\n",
    "my_filter = df['Upc'].isnull() & df['FinelineNumber'].isnull() & df['DepartmentDescription'].isnull()\n",
    "df[my_filter].groupby(['TripType'], as_index=False)['ScanCount'].count()"
   ]
  },
  {
   "cell_type": "code",
   "execution_count": 892,
   "metadata": {
    "collapsed": false
   },
   "outputs": [
    {
     "data": {
      "text/plain": [
       "TripType                 0\n",
       "VisitNumber              0\n",
       "Weekday                  0\n",
       "Upc                      0\n",
       "ScanCount                0\n",
       "DepartmentDescription    0\n",
       "FinelineNumber           0\n",
       "dtype: int64"
      ]
     },
     "execution_count": 892,
     "metadata": {},
     "output_type": "execute_result"
    }
   ],
   "source": [
    "# Replace nulls will 'Unknown' product categories\n",
    "df['Upc'] = df['Upc'].fillna('UnknownUpc')\n",
    "df['DepartmentDescription'] = df['DepartmentDescription'].fillna('UnknownDD')\n",
    "df['FinelineNumber'] = df['FinelineNumber'].fillna('UnknownFN')\n",
    "df.isnull().sum(axis=0)"
   ]
  },
  {
   "cell_type": "code",
   "execution_count": 893,
   "metadata": {
    "collapsed": false
   },
   "outputs": [
    {
     "data": {
      "text/html": [
       "<div>\n",
       "<table border=\"1\" class=\"dataframe\">\n",
       "  <thead>\n",
       "    <tr style=\"text-align: right;\">\n",
       "      <th></th>\n",
       "      <th>TripType</th>\n",
       "      <th>VisitNumber</th>\n",
       "      <th>Weekday</th>\n",
       "      <th>Upc</th>\n",
       "      <th>ScanCount</th>\n",
       "      <th>DepartmentDescription</th>\n",
       "      <th>FinelineNumber</th>\n",
       "    </tr>\n",
       "  </thead>\n",
       "  <tbody>\n",
       "    <tr>\n",
       "      <th>0</th>\n",
       "      <td>999</td>\n",
       "      <td>5</td>\n",
       "      <td>Friday</td>\n",
       "      <td>6.81132e+10</td>\n",
       "      <td>-1</td>\n",
       "      <td>FINANCIAL SERVICES</td>\n",
       "      <td>1000</td>\n",
       "    </tr>\n",
       "    <tr>\n",
       "      <th>1</th>\n",
       "      <td>30</td>\n",
       "      <td>7</td>\n",
       "      <td>Friday</td>\n",
       "      <td>6.05388e+10</td>\n",
       "      <td>1</td>\n",
       "      <td>SHOES</td>\n",
       "      <td>8931</td>\n",
       "    </tr>\n",
       "    <tr>\n",
       "      <th>2</th>\n",
       "      <td>30</td>\n",
       "      <td>7</td>\n",
       "      <td>Friday</td>\n",
       "      <td>7.41081e+09</td>\n",
       "      <td>1</td>\n",
       "      <td>PERSONAL CARE</td>\n",
       "      <td>4504</td>\n",
       "    </tr>\n",
       "    <tr>\n",
       "      <th>3</th>\n",
       "      <td>26</td>\n",
       "      <td>8</td>\n",
       "      <td>Friday</td>\n",
       "      <td>UnknownUpc</td>\n",
       "      <td>1</td>\n",
       "      <td>UnknownDD</td>\n",
       "      <td>UnknownFN</td>\n",
       "    </tr>\n",
       "    <tr>\n",
       "      <th>4</th>\n",
       "      <td>26</td>\n",
       "      <td>8</td>\n",
       "      <td>Friday</td>\n",
       "      <td>3.27001e+09</td>\n",
       "      <td>3</td>\n",
       "      <td>PETS AND SUPPLIES</td>\n",
       "      <td>1001</td>\n",
       "    </tr>\n",
       "  </tbody>\n",
       "</table>\n",
       "</div>"
      ],
      "text/plain": [
       "   TripType  VisitNumber Weekday          Upc  ScanCount  \\\n",
       "0       999            5  Friday  6.81132e+10         -1   \n",
       "1        30            7  Friday  6.05388e+10          1   \n",
       "2        30            7  Friday  7.41081e+09          1   \n",
       "3        26            8  Friday   UnknownUpc          1   \n",
       "4        26            8  Friday  3.27001e+09          3   \n",
       "\n",
       "  DepartmentDescription FinelineNumber  \n",
       "0    FINANCIAL SERVICES           1000  \n",
       "1                 SHOES           8931  \n",
       "2         PERSONAL CARE           4504  \n",
       "3             UnknownDD      UnknownFN  \n",
       "4     PETS AND SUPPLIES           1001  "
      ]
     },
     "execution_count": 893,
     "metadata": {},
     "output_type": "execute_result"
    }
   ],
   "source": [
    "df.head()"
   ]
  },
  {
   "cell_type": "markdown",
   "metadata": {},
   "source": [
    "### Read in Test Data"
   ]
  },
  {
   "cell_type": "code",
   "execution_count": 894,
   "metadata": {
    "collapsed": false
   },
   "outputs": [
    {
     "data": {
      "text/html": [
       "<div>\n",
       "<table border=\"1\" class=\"dataframe\">\n",
       "  <thead>\n",
       "    <tr style=\"text-align: right;\">\n",
       "      <th></th>\n",
       "      <th>VisitNumber</th>\n",
       "      <th>Weekday</th>\n",
       "      <th>Upc</th>\n",
       "      <th>ScanCount</th>\n",
       "      <th>DepartmentDescription</th>\n",
       "      <th>FinelineNumber</th>\n",
       "    </tr>\n",
       "  </thead>\n",
       "  <tbody>\n",
       "    <tr>\n",
       "      <th>0</th>\n",
       "      <td>1</td>\n",
       "      <td>Friday</td>\n",
       "      <td>7.250339e+10</td>\n",
       "      <td>1</td>\n",
       "      <td>SHOES</td>\n",
       "      <td>3002.0</td>\n",
       "    </tr>\n",
       "    <tr>\n",
       "      <th>1</th>\n",
       "      <td>1</td>\n",
       "      <td>Friday</td>\n",
       "      <td>1.707711e+09</td>\n",
       "      <td>1</td>\n",
       "      <td>DAIRY</td>\n",
       "      <td>1526.0</td>\n",
       "    </tr>\n",
       "    <tr>\n",
       "      <th>2</th>\n",
       "      <td>1</td>\n",
       "      <td>Friday</td>\n",
       "      <td>8.947000e+10</td>\n",
       "      <td>1</td>\n",
       "      <td>DAIRY</td>\n",
       "      <td>1431.0</td>\n",
       "    </tr>\n",
       "    <tr>\n",
       "      <th>3</th>\n",
       "      <td>1</td>\n",
       "      <td>Friday</td>\n",
       "      <td>8.849121e+10</td>\n",
       "      <td>1</td>\n",
       "      <td>GROCERY DRY GOODS</td>\n",
       "      <td>3555.0</td>\n",
       "    </tr>\n",
       "    <tr>\n",
       "      <th>4</th>\n",
       "      <td>2</td>\n",
       "      <td>Friday</td>\n",
       "      <td>2.840015e+09</td>\n",
       "      <td>1</td>\n",
       "      <td>DSD GROCERY</td>\n",
       "      <td>4408.0</td>\n",
       "    </tr>\n",
       "  </tbody>\n",
       "</table>\n",
       "</div>"
      ],
      "text/plain": [
       "   VisitNumber Weekday           Upc  ScanCount DepartmentDescription  \\\n",
       "0            1  Friday  7.250339e+10          1                 SHOES   \n",
       "1            1  Friday  1.707711e+09          1                 DAIRY   \n",
       "2            1  Friday  8.947000e+10          1                 DAIRY   \n",
       "3            1  Friday  8.849121e+10          1     GROCERY DRY GOODS   \n",
       "4            2  Friday  2.840015e+09          1           DSD GROCERY   \n",
       "\n",
       "   FinelineNumber  \n",
       "0          3002.0  \n",
       "1          1526.0  \n",
       "2          1431.0  \n",
       "3          3555.0  \n",
       "4          4408.0  "
      ]
     },
     "execution_count": 894,
     "metadata": {},
     "output_type": "execute_result"
    }
   ],
   "source": [
    "# Read in test data from the file and load into a DataFrame\n",
    "# Note that it does not have the field TripType which is what we are trying to predict\n",
    "dft = pd.read_csv('test.csv')\n",
    "# sort by VisitNumber to ensure everything is in the right order  \n",
    "dft = dft.sort_values('VisitNumber')\n",
    "dft = dft.reset_index()\n",
    "del dft['index']\n",
    "dft.head(5)"
   ]
  },
  {
   "cell_type": "code",
   "execution_count": 895,
   "metadata": {
    "collapsed": false
   },
   "outputs": [
    {
     "data": {
      "text/plain": [
       "VisitNumber              95674\n",
       "Weekday                      7\n",
       "Upc                      98147\n",
       "ScanCount                   49\n",
       "DepartmentDescription       67\n",
       "FinelineNumber            5203\n",
       "dtype: int64"
      ]
     },
     "execution_count": 895,
     "metadata": {},
     "output_type": "execute_result"
    }
   ],
   "source": [
    "# Check number of unique items per field\n",
    "dft.apply(lambda x: x.nunique(), axis=0)"
   ]
  },
  {
   "cell_type": "code",
   "execution_count": 896,
   "metadata": {
    "collapsed": false
   },
   "outputs": [
    {
     "data": {
      "text/plain": [
       "VisitNumber                 0\n",
       "Weekday                     0\n",
       "Upc                      3986\n",
       "ScanCount                   0\n",
       "DepartmentDescription    1328\n",
       "FinelineNumber           3986\n",
       "dtype: int64"
      ]
     },
     "execution_count": 896,
     "metadata": {},
     "output_type": "execute_result"
    }
   ],
   "source": [
    "# Check for null values\n",
    "dft.isnull().sum(axis=0)"
   ]
  },
  {
   "cell_type": "code",
   "execution_count": 897,
   "metadata": {
    "collapsed": false
   },
   "outputs": [
    {
     "data": {
      "text/plain": [
       "VisitNumber              0\n",
       "Weekday                  0\n",
       "Upc                      0\n",
       "ScanCount                0\n",
       "DepartmentDescription    0\n",
       "FinelineNumber           0\n",
       "dtype: int64"
      ]
     },
     "execution_count": 897,
     "metadata": {},
     "output_type": "execute_result"
    }
   ],
   "source": [
    "# Replace nulls will 'Unknown' product categories\n",
    "dft['Upc'] = dft['Upc'].fillna('UnknownUpc')\n",
    "dft['DepartmentDescription'] = dft['DepartmentDescription'].fillna('UnknownDD')\n",
    "dft['FinelineNumber'] = dft['FinelineNumber'].fillna('UnknownFN')\n",
    "dft.isnull().sum(axis=0)"
   ]
  },
  {
   "cell_type": "code",
   "execution_count": 898,
   "metadata": {
    "collapsed": false
   },
   "outputs": [],
   "source": [
    "# Create a group of field headers that include categories from both the training and the test data sets\n",
    "VisitNumber_u = list(sorted(df.VisitNumber.unique()))\n",
    "VisitNumber_ut = list(sorted(dft.VisitNumber.unique()))\n",
    "\n",
    "Upc_u = list(sorted(df.Upc.unique()))\n",
    "Upc_ut = list(sorted(dft.Upc.unique()))\n",
    "Upc_all = sorted(list(set(Upc_u)|set(Upc_ut)))\n",
    "\n",
    "FN_u = list(sorted(df.FinelineNumber.unique()))\n",
    "FN_ut = list(sorted(dft.FinelineNumber.unique()))\n",
    "FN_all = sorted(list(set(FN_u)|set(FN_ut)))\n",
    "\n",
    "DD_u = list(sorted(df.DepartmentDescription.unique()))\n",
    "DD_ut = list(sorted(dft.DepartmentDescription.unique()))\n",
    "DD_all = sorted(list(set(DD_u)|set(DD_ut)))\n"
   ]
  },
  {
   "cell_type": "markdown",
   "metadata": {},
   "source": [
    "### Feature creation on the training data"
   ]
  },
  {
   "cell_type": "code",
   "execution_count": 899,
   "metadata": {
    "collapsed": false
   },
   "outputs": [
    {
     "data": {
      "text/html": [
       "<div>\n",
       "<table border=\"1\" class=\"dataframe\">\n",
       "  <thead>\n",
       "    <tr style=\"text-align: right;\">\n",
       "      <th></th>\n",
       "      <th>TripType</th>\n",
       "      <th>VisitNumber</th>\n",
       "      <th>Weekday</th>\n",
       "      <th>Upc</th>\n",
       "      <th>ScanCount</th>\n",
       "      <th>DepartmentDescription</th>\n",
       "      <th>FinelineNumber</th>\n",
       "    </tr>\n",
       "  </thead>\n",
       "  <tbody>\n",
       "    <tr>\n",
       "      <th>0</th>\n",
       "      <td>999</td>\n",
       "      <td>5</td>\n",
       "      <td>5</td>\n",
       "      <td>6.81132e+10</td>\n",
       "      <td>-1</td>\n",
       "      <td>FINANCIAL SERVICES</td>\n",
       "      <td>1000</td>\n",
       "    </tr>\n",
       "    <tr>\n",
       "      <th>1</th>\n",
       "      <td>30</td>\n",
       "      <td>7</td>\n",
       "      <td>5</td>\n",
       "      <td>6.05388e+10</td>\n",
       "      <td>1</td>\n",
       "      <td>SHOES</td>\n",
       "      <td>8931</td>\n",
       "    </tr>\n",
       "    <tr>\n",
       "      <th>2</th>\n",
       "      <td>30</td>\n",
       "      <td>7</td>\n",
       "      <td>5</td>\n",
       "      <td>7.41081e+09</td>\n",
       "      <td>1</td>\n",
       "      <td>PERSONAL CARE</td>\n",
       "      <td>4504</td>\n",
       "    </tr>\n",
       "    <tr>\n",
       "      <th>3</th>\n",
       "      <td>26</td>\n",
       "      <td>8</td>\n",
       "      <td>5</td>\n",
       "      <td>UnknownUpc</td>\n",
       "      <td>1</td>\n",
       "      <td>UnknownDD</td>\n",
       "      <td>UnknownFN</td>\n",
       "    </tr>\n",
       "    <tr>\n",
       "      <th>4</th>\n",
       "      <td>26</td>\n",
       "      <td>8</td>\n",
       "      <td>5</td>\n",
       "      <td>3.27001e+09</td>\n",
       "      <td>3</td>\n",
       "      <td>PETS AND SUPPLIES</td>\n",
       "      <td>1001</td>\n",
       "    </tr>\n",
       "  </tbody>\n",
       "</table>\n",
       "</div>"
      ],
      "text/plain": [
       "   TripType  VisitNumber  Weekday          Upc  ScanCount  \\\n",
       "0       999            5        5  6.81132e+10         -1   \n",
       "1        30            7        5  6.05388e+10          1   \n",
       "2        30            7        5  7.41081e+09          1   \n",
       "3        26            8        5   UnknownUpc          1   \n",
       "4        26            8        5  3.27001e+09          3   \n",
       "\n",
       "  DepartmentDescription FinelineNumber  \n",
       "0    FINANCIAL SERVICES           1000  \n",
       "1                 SHOES           8931  \n",
       "2         PERSONAL CARE           4504  \n",
       "3             UnknownDD      UnknownFN  \n",
       "4     PETS AND SUPPLIES           1001  "
      ]
     },
     "execution_count": 899,
     "metadata": {},
     "output_type": "execute_result"
    }
   ],
   "source": [
    "# Convert Weekday from a text variable to a numerical variable\n",
    "df['Weekday'] = df['Weekday'].map({'Monday':1,'Tuesday':2,'Wednesday':3,'Thursday':4,'Friday':5,'Saturday':6,'Sunday':7})\n",
    "df.head()"
   ]
  },
  {
   "cell_type": "code",
   "execution_count": 900,
   "metadata": {
    "collapsed": false,
    "scrolled": true
   },
   "outputs": [
    {
     "data": {
      "text/html": [
       "<div>\n",
       "<table border=\"1\" class=\"dataframe\">\n",
       "  <thead>\n",
       "    <tr style=\"text-align: right;\">\n",
       "      <th></th>\n",
       "      <th>TripType</th>\n",
       "      <th>VisitNumber</th>\n",
       "      <th>Weekday</th>\n",
       "      <th>Upc</th>\n",
       "      <th>ScanCount</th>\n",
       "      <th>DepartmentDescription</th>\n",
       "      <th>FinelineNumber</th>\n",
       "      <th>Return</th>\n",
       "    </tr>\n",
       "  </thead>\n",
       "  <tbody>\n",
       "    <tr>\n",
       "      <th>0</th>\n",
       "      <td>999</td>\n",
       "      <td>5</td>\n",
       "      <td>5</td>\n",
       "      <td>6.81132e+10</td>\n",
       "      <td>-1</td>\n",
       "      <td>FINANCIAL SERVICES</td>\n",
       "      <td>1000</td>\n",
       "      <td>1</td>\n",
       "    </tr>\n",
       "    <tr>\n",
       "      <th>1</th>\n",
       "      <td>30</td>\n",
       "      <td>7</td>\n",
       "      <td>5</td>\n",
       "      <td>6.05388e+10</td>\n",
       "      <td>1</td>\n",
       "      <td>SHOES</td>\n",
       "      <td>8931</td>\n",
       "      <td>0</td>\n",
       "    </tr>\n",
       "    <tr>\n",
       "      <th>2</th>\n",
       "      <td>30</td>\n",
       "      <td>7</td>\n",
       "      <td>5</td>\n",
       "      <td>7.41081e+09</td>\n",
       "      <td>1</td>\n",
       "      <td>PERSONAL CARE</td>\n",
       "      <td>4504</td>\n",
       "      <td>0</td>\n",
       "    </tr>\n",
       "    <tr>\n",
       "      <th>3</th>\n",
       "      <td>26</td>\n",
       "      <td>8</td>\n",
       "      <td>5</td>\n",
       "      <td>UnknownUpc</td>\n",
       "      <td>1</td>\n",
       "      <td>UnknownDD</td>\n",
       "      <td>UnknownFN</td>\n",
       "      <td>0</td>\n",
       "    </tr>\n",
       "    <tr>\n",
       "      <th>4</th>\n",
       "      <td>26</td>\n",
       "      <td>8</td>\n",
       "      <td>5</td>\n",
       "      <td>3.27001e+09</td>\n",
       "      <td>3</td>\n",
       "      <td>PETS AND SUPPLIES</td>\n",
       "      <td>1001</td>\n",
       "      <td>0</td>\n",
       "    </tr>\n",
       "  </tbody>\n",
       "</table>\n",
       "</div>"
      ],
      "text/plain": [
       "   TripType  VisitNumber  Weekday          Upc  ScanCount  \\\n",
       "0       999            5        5  6.81132e+10         -1   \n",
       "1        30            7        5  6.05388e+10          1   \n",
       "2        30            7        5  7.41081e+09          1   \n",
       "3        26            8        5   UnknownUpc          1   \n",
       "4        26            8        5  3.27001e+09          3   \n",
       "\n",
       "  DepartmentDescription FinelineNumber  Return  \n",
       "0    FINANCIAL SERVICES           1000       1  \n",
       "1                 SHOES           8931       0  \n",
       "2         PERSONAL CARE           4504       0  \n",
       "3             UnknownDD      UnknownFN       0  \n",
       "4     PETS AND SUPPLIES           1001       0  "
      ]
     },
     "execution_count": 900,
     "metadata": {},
     "output_type": "execute_result"
    }
   ],
   "source": [
    "# Create a variable to identify whether a return occurred or not\n",
    "df['Return'] = np.where(df['ScanCount'] > 0, 0, 1)\n",
    "df.head()"
   ]
  },
  {
   "cell_type": "code",
   "execution_count": 901,
   "metadata": {
    "collapsed": false
   },
   "outputs": [
    {
     "data": {
      "text/plain": [
       "<matplotlib.axes._subplots.AxesSubplot at 0x222d05a10>"
      ]
     },
     "execution_count": 901,
     "metadata": {},
     "output_type": "execute_result"
    },
    {
     "data": {
      "image/png": "[encoded data removed]",
      "text/plain": [
       "<matplotlib.figure.Figure at 0x222d3f6d0>"
      ]
     },
     "metadata": {},
     "output_type": "display_data"
    }
   ],
   "source": [
    "# Plot histogram of ScanCount\n",
    "scancount_bar = df.groupby(['ScanCount'], as_index=False)['TripType'].count()\n",
    "scancount_bar.plot.bar('ScanCount','TripType', legend=False)"
   ]
  },
  {
   "cell_type": "code",
   "execution_count": 902,
   "metadata": {
    "collapsed": false
   },
   "outputs": [
    {
     "data": {
      "text/plain": [
       "<matplotlib.axes._subplots.AxesSubplot at 0x16c32b510>"
      ]
     },
     "execution_count": 902,
     "metadata": {},
     "output_type": "execute_result"
    },
    {
     "data": {
      "image/png": "[encoded data removed]",
      "text/plain": [
       "<matplotlib.figure.Figure at 0x20df7cd50>"
      ]
     },
     "metadata": {},
     "output_type": "display_data"
    }
   ],
   "source": [
    "# Plot histogram of ScanCount where ScanCount>2\n",
    "scancount3_bar = df[df['ScanCount']>2].groupby(['ScanCount'], as_index=False)['TripType'].count()\n",
    "scancount3_bar.plot.bar('ScanCount','TripType', legend=False)"
   ]
  },
  {
   "cell_type": "code",
   "execution_count": 903,
   "metadata": {
    "collapsed": false
   },
   "outputs": [
    {
     "data": {
      "text/html": [
       "<div>\n",
       "<table border=\"1\" class=\"dataframe\">\n",
       "  <thead>\n",
       "    <tr style=\"text-align: right;\">\n",
       "      <th></th>\n",
       "      <th>TripType</th>\n",
       "      <th>VisitNumber</th>\n",
       "      <th>Weekday</th>\n",
       "      <th>Upc</th>\n",
       "      <th>ScanCount</th>\n",
       "      <th>DepartmentDescription</th>\n",
       "      <th>FinelineNumber</th>\n",
       "      <th>Return</th>\n",
       "    </tr>\n",
       "  </thead>\n",
       "  <tbody>\n",
       "    <tr>\n",
       "      <th>0</th>\n",
       "      <td>999</td>\n",
       "      <td>5</td>\n",
       "      <td>5</td>\n",
       "      <td>6.81132e+10</td>\n",
       "      <td>0</td>\n",
       "      <td>FINANCIAL SERVICES</td>\n",
       "      <td>1000</td>\n",
       "      <td>1</td>\n",
       "    </tr>\n",
       "    <tr>\n",
       "      <th>1</th>\n",
       "      <td>30</td>\n",
       "      <td>7</td>\n",
       "      <td>5</td>\n",
       "      <td>6.05388e+10</td>\n",
       "      <td>1</td>\n",
       "      <td>SHOES</td>\n",
       "      <td>8931</td>\n",
       "      <td>0</td>\n",
       "    </tr>\n",
       "    <tr>\n",
       "      <th>2</th>\n",
       "      <td>30</td>\n",
       "      <td>7</td>\n",
       "      <td>5</td>\n",
       "      <td>7.41081e+09</td>\n",
       "      <td>1</td>\n",
       "      <td>PERSONAL CARE</td>\n",
       "      <td>4504</td>\n",
       "      <td>0</td>\n",
       "    </tr>\n",
       "    <tr>\n",
       "      <th>3</th>\n",
       "      <td>26</td>\n",
       "      <td>8</td>\n",
       "      <td>5</td>\n",
       "      <td>UnknownUpc</td>\n",
       "      <td>1</td>\n",
       "      <td>UnknownDD</td>\n",
       "      <td>UnknownFN</td>\n",
       "      <td>0</td>\n",
       "    </tr>\n",
       "    <tr>\n",
       "      <th>4</th>\n",
       "      <td>26</td>\n",
       "      <td>8</td>\n",
       "      <td>5</td>\n",
       "      <td>3.27001e+09</td>\n",
       "      <td>3</td>\n",
       "      <td>PETS AND SUPPLIES</td>\n",
       "      <td>1001</td>\n",
       "      <td>0</td>\n",
       "    </tr>\n",
       "  </tbody>\n",
       "</table>\n",
       "</div>"
      ],
      "text/plain": [
       "   TripType  VisitNumber  Weekday          Upc  ScanCount  \\\n",
       "0       999            5        5  6.81132e+10          0   \n",
       "1        30            7        5  6.05388e+10          1   \n",
       "2        30            7        5  7.41081e+09          1   \n",
       "3        26            8        5   UnknownUpc          1   \n",
       "4        26            8        5  3.27001e+09          3   \n",
       "\n",
       "  DepartmentDescription FinelineNumber  Return  \n",
       "0    FINANCIAL SERVICES           1000       1  \n",
       "1                 SHOES           8931       0  \n",
       "2         PERSONAL CARE           4504       0  \n",
       "3             UnknownDD      UnknownFN       0  \n",
       "4     PETS AND SUPPLIES           1001       0  "
      ]
     },
     "execution_count": 903,
     "metadata": {},
     "output_type": "execute_result"
    }
   ],
   "source": [
    "# Convert ScanCount negatives to 0's for MultinomialNB\n",
    "if convert_zeroes:\n",
    "    df['ScanCount'] = np.where(df['ScanCount'] < 0 , 0, df['ScanCount'])\n",
    "df.head()"
   ]
  },
  {
   "cell_type": "code",
   "execution_count": 904,
   "metadata": {
    "collapsed": false
   },
   "outputs": [
    {
     "data": {
      "text/html": [
       "<div>\n",
       "<table border=\"1\" class=\"dataframe\">\n",
       "  <thead>\n",
       "    <tr style=\"text-align: right;\">\n",
       "      <th></th>\n",
       "      <th>TripType</th>\n",
       "      <th>VisitNumber</th>\n",
       "      <th>Weekday</th>\n",
       "      <th>Upc</th>\n",
       "      <th>ScanCount</th>\n",
       "      <th>DepartmentDescription</th>\n",
       "      <th>FinelineNumber</th>\n",
       "      <th>Return</th>\n",
       "      <th>ItemsDD</th>\n",
       "    </tr>\n",
       "  </thead>\n",
       "  <tbody>\n",
       "    <tr>\n",
       "      <th>0</th>\n",
       "      <td>999</td>\n",
       "      <td>5</td>\n",
       "      <td>5</td>\n",
       "      <td>6.81132e+10</td>\n",
       "      <td>0</td>\n",
       "      <td>FINANCIAL SERVICES</td>\n",
       "      <td>1000</td>\n",
       "      <td>1</td>\n",
       "      <td>0</td>\n",
       "    </tr>\n",
       "    <tr>\n",
       "      <th>1</th>\n",
       "      <td>30</td>\n",
       "      <td>7</td>\n",
       "      <td>5</td>\n",
       "      <td>6.05388e+10</td>\n",
       "      <td>1</td>\n",
       "      <td>SHOES</td>\n",
       "      <td>8931</td>\n",
       "      <td>0</td>\n",
       "      <td>1</td>\n",
       "    </tr>\n",
       "    <tr>\n",
       "      <th>2</th>\n",
       "      <td>30</td>\n",
       "      <td>7</td>\n",
       "      <td>5</td>\n",
       "      <td>7.41081e+09</td>\n",
       "      <td>1</td>\n",
       "      <td>PERSONAL CARE</td>\n",
       "      <td>4504</td>\n",
       "      <td>0</td>\n",
       "      <td>1</td>\n",
       "    </tr>\n",
       "    <tr>\n",
       "      <th>3</th>\n",
       "      <td>26</td>\n",
       "      <td>8</td>\n",
       "      <td>5</td>\n",
       "      <td>UnknownUpc</td>\n",
       "      <td>1</td>\n",
       "      <td>UnknownDD</td>\n",
       "      <td>UnknownFN</td>\n",
       "      <td>0</td>\n",
       "      <td>1</td>\n",
       "    </tr>\n",
       "    <tr>\n",
       "      <th>4</th>\n",
       "      <td>26</td>\n",
       "      <td>8</td>\n",
       "      <td>5</td>\n",
       "      <td>3.27001e+09</td>\n",
       "      <td>3</td>\n",
       "      <td>PETS AND SUPPLIES</td>\n",
       "      <td>1001</td>\n",
       "      <td>0</td>\n",
       "      <td>4</td>\n",
       "    </tr>\n",
       "  </tbody>\n",
       "</table>\n",
       "</div>"
      ],
      "text/plain": [
       "   TripType  VisitNumber  Weekday          Upc  ScanCount  \\\n",
       "0       999            5        5  6.81132e+10          0   \n",
       "1        30            7        5  6.05388e+10          1   \n",
       "2        30            7        5  7.41081e+09          1   \n",
       "3        26            8        5   UnknownUpc          1   \n",
       "4        26            8        5  3.27001e+09          3   \n",
       "\n",
       "  DepartmentDescription FinelineNumber  Return  ItemsDD  \n",
       "0    FINANCIAL SERVICES           1000       1        0  \n",
       "1                 SHOES           8931       0        1  \n",
       "2         PERSONAL CARE           4504       0        1  \n",
       "3             UnknownDD      UnknownFN       0        1  \n",
       "4     PETS AND SUPPLIES           1001       0        4  "
      ]
     },
     "execution_count": 904,
     "metadata": {},
     "output_type": "execute_result"
    }
   ],
   "source": [
    "# Aggregate number of items by Department Description, i.e. sum ScanCount\n",
    "dd = df.groupby(['VisitNumber','DepartmentDescription'], as_index=False)['ScanCount'].sum()\n",
    "dd = dd.rename(columns={'ScanCount': 'ItemsDD'})\n",
    "df = pd.merge(left=df, right=dd, on=['VisitNumber','DepartmentDescription'], how='left')\n",
    "df.head()"
   ]
  },
  {
   "cell_type": "code",
   "execution_count": 905,
   "metadata": {
    "collapsed": false
   },
   "outputs": [
    {
     "data": {
      "text/html": [
       "<div>\n",
       "<table border=\"1\" class=\"dataframe\">\n",
       "  <thead>\n",
       "    <tr style=\"text-align: right;\">\n",
       "      <th></th>\n",
       "      <th>TripType</th>\n",
       "      <th>VisitNumber</th>\n",
       "      <th>Weekday</th>\n",
       "      <th>Upc</th>\n",
       "      <th>ScanCount</th>\n",
       "      <th>DepartmentDescription</th>\n",
       "      <th>FinelineNumber</th>\n",
       "      <th>Return</th>\n",
       "      <th>ItemsDD</th>\n",
       "      <th>ItemsFN</th>\n",
       "    </tr>\n",
       "  </thead>\n",
       "  <tbody>\n",
       "    <tr>\n",
       "      <th>0</th>\n",
       "      <td>999</td>\n",
       "      <td>5</td>\n",
       "      <td>5</td>\n",
       "      <td>6.81132e+10</td>\n",
       "      <td>0</td>\n",
       "      <td>FINANCIAL SERVICES</td>\n",
       "      <td>1000</td>\n",
       "      <td>1</td>\n",
       "      <td>0</td>\n",
       "      <td>0</td>\n",
       "    </tr>\n",
       "    <tr>\n",
       "      <th>1</th>\n",
       "      <td>30</td>\n",
       "      <td>7</td>\n",
       "      <td>5</td>\n",
       "      <td>6.05388e+10</td>\n",
       "      <td>1</td>\n",
       "      <td>SHOES</td>\n",
       "      <td>8931</td>\n",
       "      <td>0</td>\n",
       "      <td>1</td>\n",
       "      <td>1</td>\n",
       "    </tr>\n",
       "    <tr>\n",
       "      <th>2</th>\n",
       "      <td>30</td>\n",
       "      <td>7</td>\n",
       "      <td>5</td>\n",
       "      <td>7.41081e+09</td>\n",
       "      <td>1</td>\n",
       "      <td>PERSONAL CARE</td>\n",
       "      <td>4504</td>\n",
       "      <td>0</td>\n",
       "      <td>1</td>\n",
       "      <td>1</td>\n",
       "    </tr>\n",
       "    <tr>\n",
       "      <th>3</th>\n",
       "      <td>26</td>\n",
       "      <td>8</td>\n",
       "      <td>5</td>\n",
       "      <td>UnknownUpc</td>\n",
       "      <td>1</td>\n",
       "      <td>UnknownDD</td>\n",
       "      <td>UnknownFN</td>\n",
       "      <td>0</td>\n",
       "      <td>1</td>\n",
       "      <td>1</td>\n",
       "    </tr>\n",
       "    <tr>\n",
       "      <th>4</th>\n",
       "      <td>26</td>\n",
       "      <td>8</td>\n",
       "      <td>5</td>\n",
       "      <td>3.27001e+09</td>\n",
       "      <td>3</td>\n",
       "      <td>PETS AND SUPPLIES</td>\n",
       "      <td>1001</td>\n",
       "      <td>0</td>\n",
       "      <td>4</td>\n",
       "      <td>3</td>\n",
       "    </tr>\n",
       "  </tbody>\n",
       "</table>\n",
       "</div>"
      ],
      "text/plain": [
       "   TripType  VisitNumber  Weekday          Upc  ScanCount  \\\n",
       "0       999            5        5  6.81132e+10          0   \n",
       "1        30            7        5  6.05388e+10          1   \n",
       "2        30            7        5  7.41081e+09          1   \n",
       "3        26            8        5   UnknownUpc          1   \n",
       "4        26            8        5  3.27001e+09          3   \n",
       "\n",
       "  DepartmentDescription FinelineNumber  Return  ItemsDD  ItemsFN  \n",
       "0    FINANCIAL SERVICES           1000       1        0        0  \n",
       "1                 SHOES           8931       0        1        1  \n",
       "2         PERSONAL CARE           4504       0        1        1  \n",
       "3             UnknownDD      UnknownFN       0        1        1  \n",
       "4     PETS AND SUPPLIES           1001       0        4        3  "
      ]
     },
     "execution_count": 905,
     "metadata": {},
     "output_type": "execute_result"
    }
   ],
   "source": [
    "# Aggregate number of items by FinelineNumber, i.e. sum ScanCount\n",
    "fn = df.groupby(['VisitNumber','FinelineNumber'], as_index=False)['ScanCount'].sum()\n",
    "fn = fn.rename(columns={'ScanCount': 'ItemsFN'})\n",
    "df = pd.merge(left=df, right=fn, on=['VisitNumber','FinelineNumber'], how='left')\n",
    "df.head()"
   ]
  },
  {
   "cell_type": "code",
   "execution_count": 906,
   "metadata": {
    "collapsed": false
   },
   "outputs": [
    {
     "data": {
      "text/html": [
       "<div>\n",
       "<table border=\"1\" class=\"dataframe\">\n",
       "  <thead>\n",
       "    <tr style=\"text-align: right;\">\n",
       "      <th></th>\n",
       "      <th>TripType</th>\n",
       "      <th>VisitNumber</th>\n",
       "      <th>Weekday</th>\n",
       "      <th>Upc</th>\n",
       "      <th>ScanCount</th>\n",
       "      <th>DepartmentDescription</th>\n",
       "      <th>FinelineNumber</th>\n",
       "      <th>Return</th>\n",
       "      <th>ItemsDD</th>\n",
       "      <th>ItemsFN</th>\n",
       "      <th>NumProducts</th>\n",
       "    </tr>\n",
       "  </thead>\n",
       "  <tbody>\n",
       "    <tr>\n",
       "      <th>0</th>\n",
       "      <td>999</td>\n",
       "      <td>5</td>\n",
       "      <td>5</td>\n",
       "      <td>6.81132e+10</td>\n",
       "      <td>0</td>\n",
       "      <td>FINANCIAL SERVICES</td>\n",
       "      <td>1000</td>\n",
       "      <td>1</td>\n",
       "      <td>0</td>\n",
       "      <td>0</td>\n",
       "      <td>1</td>\n",
       "    </tr>\n",
       "    <tr>\n",
       "      <th>1</th>\n",
       "      <td>30</td>\n",
       "      <td>7</td>\n",
       "      <td>5</td>\n",
       "      <td>6.05388e+10</td>\n",
       "      <td>1</td>\n",
       "      <td>SHOES</td>\n",
       "      <td>8931</td>\n",
       "      <td>0</td>\n",
       "      <td>1</td>\n",
       "      <td>1</td>\n",
       "      <td>2</td>\n",
       "    </tr>\n",
       "    <tr>\n",
       "      <th>2</th>\n",
       "      <td>30</td>\n",
       "      <td>7</td>\n",
       "      <td>5</td>\n",
       "      <td>7.41081e+09</td>\n",
       "      <td>1</td>\n",
       "      <td>PERSONAL CARE</td>\n",
       "      <td>4504</td>\n",
       "      <td>0</td>\n",
       "      <td>1</td>\n",
       "      <td>1</td>\n",
       "      <td>2</td>\n",
       "    </tr>\n",
       "    <tr>\n",
       "      <th>3</th>\n",
       "      <td>26</td>\n",
       "      <td>8</td>\n",
       "      <td>5</td>\n",
       "      <td>UnknownUpc</td>\n",
       "      <td>1</td>\n",
       "      <td>UnknownDD</td>\n",
       "      <td>UnknownFN</td>\n",
       "      <td>0</td>\n",
       "      <td>1</td>\n",
       "      <td>1</td>\n",
       "      <td>23</td>\n",
       "    </tr>\n",
       "    <tr>\n",
       "      <th>4</th>\n",
       "      <td>26</td>\n",
       "      <td>8</td>\n",
       "      <td>5</td>\n",
       "      <td>3.27001e+09</td>\n",
       "      <td>3</td>\n",
       "      <td>PETS AND SUPPLIES</td>\n",
       "      <td>1001</td>\n",
       "      <td>0</td>\n",
       "      <td>4</td>\n",
       "      <td>3</td>\n",
       "      <td>23</td>\n",
       "    </tr>\n",
       "  </tbody>\n",
       "</table>\n",
       "</div>"
      ],
      "text/plain": [
       "   TripType  VisitNumber  Weekday          Upc  ScanCount  \\\n",
       "0       999            5        5  6.81132e+10          0   \n",
       "1        30            7        5  6.05388e+10          1   \n",
       "2        30            7        5  7.41081e+09          1   \n",
       "3        26            8        5   UnknownUpc          1   \n",
       "4        26            8        5  3.27001e+09          3   \n",
       "\n",
       "  DepartmentDescription FinelineNumber  Return  ItemsDD  ItemsFN  NumProducts  \n",
       "0    FINANCIAL SERVICES           1000       1        0        0            1  \n",
       "1                 SHOES           8931       0        1        1            2  \n",
       "2         PERSONAL CARE           4504       0        1        1            2  \n",
       "3             UnknownDD      UnknownFN       0        1        1           23  \n",
       "4     PETS AND SUPPLIES           1001       0        4        3           23  "
      ]
     },
     "execution_count": 906,
     "metadata": {},
     "output_type": "execute_result"
    }
   ],
   "source": [
    "# Aggregate number of products by VisitNumber, i.e. count TripType\n",
    "wd = df.groupby(['VisitNumber','Weekday'], as_index=False)['TripType'].count()\n",
    "wd = wd.rename(columns={'TripType': 'NumProducts'})\n",
    "df = pd.merge(left=df, right=wd, on=['VisitNumber','Weekday'], how='left')\n",
    "df.head(5)"
   ]
  },
  {
   "cell_type": "code",
   "execution_count": 907,
   "metadata": {
    "collapsed": false
   },
   "outputs": [
    {
     "data": {
      "text/plain": [
       "<matplotlib.axes._subplots.AxesSubplot at 0x1b931f3d0>"
      ]
     },
     "execution_count": 907,
     "metadata": {},
     "output_type": "execute_result"
    },
    {
     "data": {
      "image/png": "[encoded data removed]",
      "text/plain": [
       "<matplotlib.figure.Figure at 0x1a248c5d0>"
      ]
     },
     "metadata": {},
     "output_type": "display_data"
    }
   ],
   "source": [
    "# Plot Weekday histogram\n",
    "weekday_hist = wd.groupby(['Weekday'], as_index=False)['VisitNumber'].count()\n",
    "weekday_hist.plot.bar('Weekday','VisitNumber', legend=False)"
   ]
  },
  {
   "cell_type": "code",
   "execution_count": 908,
   "metadata": {
    "collapsed": false
   },
   "outputs": [
    {
     "data": {
      "text/html": [
       "<div>\n",
       "<table border=\"1\" class=\"dataframe\">\n",
       "  <thead>\n",
       "    <tr style=\"text-align: right;\">\n",
       "      <th></th>\n",
       "      <th>VisitNumber</th>\n",
       "      <th>TripType</th>\n",
       "      <th>Return</th>\n",
       "    </tr>\n",
       "  </thead>\n",
       "  <tbody>\n",
       "    <tr>\n",
       "      <th>0</th>\n",
       "      <td>5</td>\n",
       "      <td>999</td>\n",
       "      <td>1</td>\n",
       "    </tr>\n",
       "    <tr>\n",
       "      <th>1</th>\n",
       "      <td>7</td>\n",
       "      <td>30</td>\n",
       "      <td>0</td>\n",
       "    </tr>\n",
       "    <tr>\n",
       "      <th>2</th>\n",
       "      <td>8</td>\n",
       "      <td>26</td>\n",
       "      <td>1</td>\n",
       "    </tr>\n",
       "    <tr>\n",
       "      <th>3</th>\n",
       "      <td>9</td>\n",
       "      <td>8</td>\n",
       "      <td>0</td>\n",
       "    </tr>\n",
       "    <tr>\n",
       "      <th>4</th>\n",
       "      <td>10</td>\n",
       "      <td>8</td>\n",
       "      <td>0</td>\n",
       "    </tr>\n",
       "  </tbody>\n",
       "</table>\n",
       "</div>"
      ],
      "text/plain": [
       "   VisitNumber  TripType  Return\n",
       "0            5       999       1\n",
       "1            7        30       0\n",
       "2            8        26       1\n",
       "3            9         8       0\n",
       "4           10         8       0"
      ]
     },
     "execution_count": 908,
     "metadata": {},
     "output_type": "execute_result"
    }
   ],
   "source": [
    "# Create a return dummy for each shopping visit\n",
    "rt = df.groupby(['VisitNumber','TripType'], as_index=False)['Return'].sum()\n",
    "rt['Return'] = np.where(rt['Return'] > 0 , 1, 0)\n",
    "rt.head(5)"
   ]
  },
  {
   "cell_type": "code",
   "execution_count": 909,
   "metadata": {
    "collapsed": false
   },
   "outputs": [
    {
     "data": {
      "text/html": [
       "<div>\n",
       "<table border=\"1\" class=\"dataframe\">\n",
       "  <thead>\n",
       "    <tr style=\"text-align: right;\">\n",
       "      <th></th>\n",
       "      <th>TripType</th>\n",
       "      <th>VisitNumber</th>\n",
       "      <th>Weekday</th>\n",
       "      <th>Upc</th>\n",
       "      <th>ScanCount</th>\n",
       "      <th>DepartmentDescription</th>\n",
       "      <th>FinelineNumber</th>\n",
       "      <th>Return</th>\n",
       "      <th>ItemsDD</th>\n",
       "      <th>ItemsFN</th>\n",
       "      <th>NumProducts</th>\n",
       "      <th>NumItems</th>\n",
       "    </tr>\n",
       "  </thead>\n",
       "  <tbody>\n",
       "    <tr>\n",
       "      <th>0</th>\n",
       "      <td>999</td>\n",
       "      <td>5</td>\n",
       "      <td>5</td>\n",
       "      <td>6.81132e+10</td>\n",
       "      <td>0</td>\n",
       "      <td>FINANCIAL SERVICES</td>\n",
       "      <td>1000</td>\n",
       "      <td>1</td>\n",
       "      <td>0</td>\n",
       "      <td>0</td>\n",
       "      <td>1</td>\n",
       "      <td>0</td>\n",
       "    </tr>\n",
       "    <tr>\n",
       "      <th>1</th>\n",
       "      <td>30</td>\n",
       "      <td>7</td>\n",
       "      <td>5</td>\n",
       "      <td>6.05388e+10</td>\n",
       "      <td>1</td>\n",
       "      <td>SHOES</td>\n",
       "      <td>8931</td>\n",
       "      <td>0</td>\n",
       "      <td>1</td>\n",
       "      <td>1</td>\n",
       "      <td>2</td>\n",
       "      <td>2</td>\n",
       "    </tr>\n",
       "    <tr>\n",
       "      <th>2</th>\n",
       "      <td>30</td>\n",
       "      <td>7</td>\n",
       "      <td>5</td>\n",
       "      <td>7.41081e+09</td>\n",
       "      <td>1</td>\n",
       "      <td>PERSONAL CARE</td>\n",
       "      <td>4504</td>\n",
       "      <td>0</td>\n",
       "      <td>1</td>\n",
       "      <td>1</td>\n",
       "      <td>2</td>\n",
       "      <td>2</td>\n",
       "    </tr>\n",
       "    <tr>\n",
       "      <th>3</th>\n",
       "      <td>26</td>\n",
       "      <td>8</td>\n",
       "      <td>5</td>\n",
       "      <td>UnknownUpc</td>\n",
       "      <td>1</td>\n",
       "      <td>UnknownDD</td>\n",
       "      <td>UnknownFN</td>\n",
       "      <td>0</td>\n",
       "      <td>1</td>\n",
       "      <td>1</td>\n",
       "      <td>23</td>\n",
       "      <td>30</td>\n",
       "    </tr>\n",
       "    <tr>\n",
       "      <th>4</th>\n",
       "      <td>26</td>\n",
       "      <td>8</td>\n",
       "      <td>5</td>\n",
       "      <td>3.27001e+09</td>\n",
       "      <td>3</td>\n",
       "      <td>PETS AND SUPPLIES</td>\n",
       "      <td>1001</td>\n",
       "      <td>0</td>\n",
       "      <td>4</td>\n",
       "      <td>3</td>\n",
       "      <td>23</td>\n",
       "      <td>30</td>\n",
       "    </tr>\n",
       "  </tbody>\n",
       "</table>\n",
       "</div>"
      ],
      "text/plain": [
       "   TripType  VisitNumber  Weekday          Upc  ScanCount  \\\n",
       "0       999            5        5  6.81132e+10          0   \n",
       "1        30            7        5  6.05388e+10          1   \n",
       "2        30            7        5  7.41081e+09          1   \n",
       "3        26            8        5   UnknownUpc          1   \n",
       "4        26            8        5  3.27001e+09          3   \n",
       "\n",
       "  DepartmentDescription FinelineNumber  Return  ItemsDD  ItemsFN  NumProducts  \\\n",
       "0    FINANCIAL SERVICES           1000       1        0        0            1   \n",
       "1                 SHOES           8931       0        1        1            2   \n",
       "2         PERSONAL CARE           4504       0        1        1            2   \n",
       "3             UnknownDD      UnknownFN       0        1        1           23   \n",
       "4     PETS AND SUPPLIES           1001       0        4        3           23   \n",
       "\n",
       "   NumItems  \n",
       "0         0  \n",
       "1         2  \n",
       "2         2  \n",
       "3        30  \n",
       "4        30  "
      ]
     },
     "execution_count": 909,
     "metadata": {},
     "output_type": "execute_result"
    }
   ],
   "source": [
    "# Aggregate number of items by VisitNumber, i.e sum ScanCount\n",
    "tt = df.groupby(['VisitNumber','TripType'], as_index=False)['ScanCount'].sum()\n",
    "tt = tt.rename(columns={'ScanCount': 'NumItems'})\n",
    "df = pd.merge(left=df, right=tt, on=['VisitNumber','TripType'], how='left')\n",
    "df.head(5)"
   ]
  },
  {
   "cell_type": "code",
   "execution_count": 910,
   "metadata": {
    "collapsed": false
   },
   "outputs": [
    {
     "data": {
      "text/html": [
       "<div>\n",
       "<table border=\"1\" class=\"dataframe\">\n",
       "  <thead>\n",
       "    <tr style=\"text-align: right;\">\n",
       "      <th></th>\n",
       "      <th>VisitNumber</th>\n",
       "      <th>TripType</th>\n",
       "      <th>NumItems</th>\n",
       "      <th>NumProducts</th>\n",
       "      <th>Return</th>\n",
       "    </tr>\n",
       "  </thead>\n",
       "  <tbody>\n",
       "    <tr>\n",
       "      <th>0</th>\n",
       "      <td>5</td>\n",
       "      <td>999</td>\n",
       "      <td>0</td>\n",
       "      <td>1</td>\n",
       "      <td>1</td>\n",
       "    </tr>\n",
       "    <tr>\n",
       "      <th>1</th>\n",
       "      <td>7</td>\n",
       "      <td>30</td>\n",
       "      <td>2</td>\n",
       "      <td>2</td>\n",
       "      <td>0</td>\n",
       "    </tr>\n",
       "    <tr>\n",
       "      <th>2</th>\n",
       "      <td>8</td>\n",
       "      <td>26</td>\n",
       "      <td>30</td>\n",
       "      <td>23</td>\n",
       "      <td>1</td>\n",
       "    </tr>\n",
       "    <tr>\n",
       "      <th>3</th>\n",
       "      <td>9</td>\n",
       "      <td>8</td>\n",
       "      <td>3</td>\n",
       "      <td>3</td>\n",
       "      <td>0</td>\n",
       "    </tr>\n",
       "    <tr>\n",
       "      <th>4</th>\n",
       "      <td>10</td>\n",
       "      <td>8</td>\n",
       "      <td>3</td>\n",
       "      <td>3</td>\n",
       "      <td>0</td>\n",
       "    </tr>\n",
       "  </tbody>\n",
       "</table>\n",
       "</div>"
      ],
      "text/plain": [
       "   VisitNumber  TripType  NumItems  NumProducts  Return\n",
       "0            5       999         0            1       1\n",
       "1            7        30         2            2       0\n",
       "2            8        26        30           23       1\n",
       "3            9         8         3            3       0\n",
       "4           10         8         3            3       0"
      ]
     },
     "execution_count": 910,
     "metadata": {},
     "output_type": "execute_result"
    }
   ],
   "source": [
    "# Sort by VisitNumber to get and ordered target list of TripType and row names of VisitNumber\n",
    "tt['NumProducts'] = wd.NumProducts\n",
    "tt['Return'] = rt.Return\n",
    "tt.sort_values('VisitNumber')\n",
    "aggs = tt[['NumItems', 'NumProducts', 'Return']]\n",
    "tt.head()"
   ]
  },
  {
   "cell_type": "code",
   "execution_count": 911,
   "metadata": {
    "collapsed": false
   },
   "outputs": [
    {
     "data": {
      "text/plain": [
       "<matplotlib.axes._subplots.AxesSubplot at 0x22cca4dd0>"
      ]
     },
     "execution_count": 911,
     "metadata": {},
     "output_type": "execute_result"
    },
    {
     "data": {
      "image/png": "[encoded data removed]",
      "text/plain": [
       "<matplotlib.figure.Figure at 0x2063648d0>"
      ]
     },
     "metadata": {},
     "output_type": "display_data"
    }
   ],
   "source": [
    "numitems_bar = tt.groupby(['NumItems'], as_index=False)['TripType'].count()\n",
    "numitems_bar.plot.bar('NumItems','TripType', legend=False)\n",
    "# numitems_bar.plot.bar('NumItems','TripType', legend=False, xticks=50)"
   ]
  },
  {
   "cell_type": "code",
   "execution_count": 912,
   "metadata": {
    "collapsed": false
   },
   "outputs": [
    {
     "data": {
      "text/plain": [
       "<matplotlib.axes._subplots.AxesSubplot at 0x22d244850>"
      ]
     },
     "execution_count": 912,
     "metadata": {},
     "output_type": "execute_result"
    },
    {
     "data": {
      "image/png": "[encoded data removed]",
      "text/plain": [
       "<matplotlib.figure.Figure at 0x22cd37a90>"
      ]
     },
     "metadata": {},
     "output_type": "display_data"
    }
   ],
   "source": [
    "numproducts_bar = tt.groupby(['NumProducts'], as_index=False)['TripType'].count()\n",
    "numproducts_bar.plot.bar('NumProducts','TripType', legend=False)\n",
    "# numproducts_bar.plot.bar('NumProducts','TripType', legend=False, xticks=50)\n"
   ]
  },
  {
   "cell_type": "code",
   "execution_count": 913,
   "metadata": {
    "collapsed": false
   },
   "outputs": [
    {
     "data": {
      "text/plain": [
       "<matplotlib.axes._subplots.AxesSubplot at 0x246c1ed10>"
      ]
     },
     "execution_count": 913,
     "metadata": {},
     "output_type": "execute_result"
    },
    {
     "data": {
      "image/png": "[encoded data removed]",
      "text/plain": [
       "<matplotlib.figure.Figure at 0x206364910>"
      ]
     },
     "metadata": {},
     "output_type": "display_data"
    }
   ],
   "source": [
    "# Plot histogram of TripType\n",
    "triptype_bar = tt.groupby(['TripType'], as_index=False)['NumItems'].count()\n",
    "triptype_bar.plot.bar('TripType','NumItems', legend=False)\n"
   ]
  },
  {
   "cell_type": "code",
   "execution_count": 976,
   "metadata": {
    "collapsed": false
   },
   "outputs": [
    {
     "data": {
      "text/html": [
       "<div>\n",
       "<table border=\"1\" class=\"dataframe\">\n",
       "  <thead>\n",
       "    <tr style=\"text-align: right;\">\n",
       "      <th></th>\n",
       "      <th>TripType</th>\n",
       "      <th>NumItems</th>\n",
       "    </tr>\n",
       "  </thead>\n",
       "  <tbody>\n",
       "    <tr>\n",
       "      <th>0</th>\n",
       "      <td>3</td>\n",
       "      <td>3643</td>\n",
       "    </tr>\n",
       "    <tr>\n",
       "      <th>1</th>\n",
       "      <td>4</td>\n",
       "      <td>346</td>\n",
       "    </tr>\n",
       "    <tr>\n",
       "      <th>2</th>\n",
       "      <td>5</td>\n",
       "      <td>4593</td>\n",
       "    </tr>\n",
       "    <tr>\n",
       "      <th>3</th>\n",
       "      <td>6</td>\n",
       "      <td>1277</td>\n",
       "    </tr>\n",
       "    <tr>\n",
       "      <th>4</th>\n",
       "      <td>7</td>\n",
       "      <td>5752</td>\n",
       "    </tr>\n",
       "    <tr>\n",
       "      <th>5</th>\n",
       "      <td>8</td>\n",
       "      <td>12161</td>\n",
       "    </tr>\n",
       "    <tr>\n",
       "      <th>6</th>\n",
       "      <td>9</td>\n",
       "      <td>9464</td>\n",
       "    </tr>\n",
       "    <tr>\n",
       "      <th>7</th>\n",
       "      <td>12</td>\n",
       "      <td>269</td>\n",
       "    </tr>\n",
       "    <tr>\n",
       "      <th>8</th>\n",
       "      <td>14</td>\n",
       "      <td>4</td>\n",
       "    </tr>\n",
       "    <tr>\n",
       "      <th>9</th>\n",
       "      <td>15</td>\n",
       "      <td>978</td>\n",
       "    </tr>\n",
       "    <tr>\n",
       "      <th>10</th>\n",
       "      <td>18</td>\n",
       "      <td>549</td>\n",
       "    </tr>\n",
       "    <tr>\n",
       "      <th>11</th>\n",
       "      <td>19</td>\n",
       "      <td>375</td>\n",
       "    </tr>\n",
       "    <tr>\n",
       "      <th>12</th>\n",
       "      <td>20</td>\n",
       "      <td>637</td>\n",
       "    </tr>\n",
       "    <tr>\n",
       "      <th>13</th>\n",
       "      <td>21</td>\n",
       "      <td>641</td>\n",
       "    </tr>\n",
       "    <tr>\n",
       "      <th>14</th>\n",
       "      <td>22</td>\n",
       "      <td>928</td>\n",
       "    </tr>\n",
       "    <tr>\n",
       "      <th>15</th>\n",
       "      <td>23</td>\n",
       "      <td>139</td>\n",
       "    </tr>\n",
       "    <tr>\n",
       "      <th>16</th>\n",
       "      <td>24</td>\n",
       "      <td>2609</td>\n",
       "    </tr>\n",
       "    <tr>\n",
       "      <th>17</th>\n",
       "      <td>25</td>\n",
       "      <td>3698</td>\n",
       "    </tr>\n",
       "    <tr>\n",
       "      <th>18</th>\n",
       "      <td>26</td>\n",
       "      <td>503</td>\n",
       "    </tr>\n",
       "    <tr>\n",
       "      <th>19</th>\n",
       "      <td>27</td>\n",
       "      <td>785</td>\n",
       "    </tr>\n",
       "    <tr>\n",
       "      <th>20</th>\n",
       "      <td>28</td>\n",
       "      <td>492</td>\n",
       "    </tr>\n",
       "    <tr>\n",
       "      <th>21</th>\n",
       "      <td>29</td>\n",
       "      <td>433</td>\n",
       "    </tr>\n",
       "    <tr>\n",
       "      <th>22</th>\n",
       "      <td>30</td>\n",
       "      <td>1081</td>\n",
       "    </tr>\n",
       "    <tr>\n",
       "      <th>23</th>\n",
       "      <td>31</td>\n",
       "      <td>594</td>\n",
       "    </tr>\n",
       "    <tr>\n",
       "      <th>24</th>\n",
       "      <td>32</td>\n",
       "      <td>1984</td>\n",
       "    </tr>\n",
       "    <tr>\n",
       "      <th>25</th>\n",
       "      <td>33</td>\n",
       "      <td>1315</td>\n",
       "    </tr>\n",
       "    <tr>\n",
       "      <th>26</th>\n",
       "      <td>34</td>\n",
       "      <td>719</td>\n",
       "    </tr>\n",
       "    <tr>\n",
       "      <th>27</th>\n",
       "      <td>35</td>\n",
       "      <td>2030</td>\n",
       "    </tr>\n",
       "    <tr>\n",
       "      <th>28</th>\n",
       "      <td>36</td>\n",
       "      <td>3005</td>\n",
       "    </tr>\n",
       "    <tr>\n",
       "      <th>29</th>\n",
       "      <td>37</td>\n",
       "      <td>2788</td>\n",
       "    </tr>\n",
       "    <tr>\n",
       "      <th>30</th>\n",
       "      <td>38</td>\n",
       "      <td>2912</td>\n",
       "    </tr>\n",
       "    <tr>\n",
       "      <th>31</th>\n",
       "      <td>39</td>\n",
       "      <td>9896</td>\n",
       "    </tr>\n",
       "    <tr>\n",
       "      <th>32</th>\n",
       "      <td>40</td>\n",
       "      <td>6130</td>\n",
       "    </tr>\n",
       "    <tr>\n",
       "      <th>33</th>\n",
       "      <td>41</td>\n",
       "      <td>583</td>\n",
       "    </tr>\n",
       "    <tr>\n",
       "      <th>34</th>\n",
       "      <td>42</td>\n",
       "      <td>1858</td>\n",
       "    </tr>\n",
       "    <tr>\n",
       "      <th>35</th>\n",
       "      <td>43</td>\n",
       "      <td>872</td>\n",
       "    </tr>\n",
       "    <tr>\n",
       "      <th>36</th>\n",
       "      <td>44</td>\n",
       "      <td>1187</td>\n",
       "    </tr>\n",
       "    <tr>\n",
       "      <th>37</th>\n",
       "      <td>999</td>\n",
       "      <td>8444</td>\n",
       "    </tr>\n",
       "  </tbody>\n",
       "</table>\n",
       "</div>"
      ],
      "text/plain": [
       "    TripType  NumItems\n",
       "0          3      3643\n",
       "1          4       346\n",
       "2          5      4593\n",
       "3          6      1277\n",
       "4          7      5752\n",
       "5          8     12161\n",
       "6          9      9464\n",
       "7         12       269\n",
       "8         14         4\n",
       "9         15       978\n",
       "10        18       549\n",
       "11        19       375\n",
       "12        20       637\n",
       "13        21       641\n",
       "14        22       928\n",
       "15        23       139\n",
       "16        24      2609\n",
       "17        25      3698\n",
       "18        26       503\n",
       "19        27       785\n",
       "20        28       492\n",
       "21        29       433\n",
       "22        30      1081\n",
       "23        31       594\n",
       "24        32      1984\n",
       "25        33      1315\n",
       "26        34       719\n",
       "27        35      2030\n",
       "28        36      3005\n",
       "29        37      2788\n",
       "30        38      2912\n",
       "31        39      9896\n",
       "32        40      6130\n",
       "33        41       583\n",
       "34        42      1858\n",
       "35        43       872\n",
       "36        44      1187\n",
       "37       999      8444"
      ]
     },
     "execution_count": 976,
     "metadata": {},
     "output_type": "execute_result"
    }
   ],
   "source": [
    "triptype_bar"
   ]
  },
  {
   "cell_type": "code",
   "execution_count": 914,
   "metadata": {
    "collapsed": false
   },
   "outputs": [
    {
     "data": {
      "text/plain": [
       "0    999\n",
       "1     30\n",
       "2     26\n",
       "3      8\n",
       "4      8\n",
       "Name: TripType, dtype: int64"
      ]
     },
     "execution_count": 914,
     "metadata": {},
     "output_type": "execute_result"
    }
   ],
   "source": [
    "target = tt.TripType\n",
    "target.head()"
   ]
  },
  {
   "cell_type": "code",
   "execution_count": 915,
   "metadata": {
    "collapsed": false
   },
   "outputs": [
    {
     "data": {
      "text/plain": [
       "0     5\n",
       "1     7\n",
       "2     8\n",
       "3     9\n",
       "4    10\n",
       "Name: VisitNumber, dtype: int64"
      ]
     },
     "execution_count": 915,
     "metadata": {},
     "output_type": "execute_result"
    }
   ],
   "source": [
    "visit_numbers = tt.VisitNumber\n",
    "visit_numbers.head()"
   ]
  },
  {
   "cell_type": "code",
   "execution_count": 916,
   "metadata": {
    "collapsed": false
   },
   "outputs": [
    {
     "data": {
      "text/plain": [
       "<95674x7 sparse matrix of type '<type 'numpy.int64'>'\n",
       "\twith 95674 stored elements in Compressed Sparse Row format>"
      ]
     },
     "execution_count": 916,
     "metadata": {},
     "output_type": "execute_result"
    }
   ],
   "source": [
    "# Create a sparse matrix of Weekday dummies for VisitNumber\n",
    "Weekday_u = list(sorted(wd.Weekday.unique()))\n",
    "data = wd['Weekday'].tolist()\n",
    "row = wd.VisitNumber.astype('category', categories=VisitNumber_u).cat.codes\n",
    "col = wd.Weekday.astype('category', categories=Weekday_u).cat.codes\n",
    "Weekday_sm = csr_matrix((data, (row, col)), shape=(len(VisitNumber_u), len(Weekday_u)))\n",
    "Weekday_sm"
   ]
  },
  {
   "cell_type": "code",
   "execution_count": 917,
   "metadata": {
    "collapsed": false
   },
   "outputs": [
    {
     "data": {
      "text/plain": [
       "<95674x124694 sparse matrix of type '<type 'numpy.int64'>'\n",
       "\twith 631237 stored elements in Compressed Sparse Row format>"
      ]
     },
     "execution_count": 917,
     "metadata": {},
     "output_type": "execute_result"
    }
   ],
   "source": [
    "# Create a sparse matrix of number of items by Upc for each VisitNumber\n",
    "data = df['ScanCount'].tolist()\n",
    "row = df.VisitNumber.astype('category', categories=VisitNumber_u).cat.codes\n",
    "col = df.Upc.astype('category', categories=Upc_all).cat.codes\n",
    "Upc_sm = csr_matrix((data, (row, col)), shape=(len(VisitNumber_u), len(Upc_all)))\n",
    "Upc_sm\n"
   ]
  },
  {
   "cell_type": "code",
   "execution_count": 918,
   "metadata": {
    "collapsed": false,
    "scrolled": true
   },
   "outputs": [
    {
     "data": {
      "text/plain": [
       "<95674x5354 sparse matrix of type '<type 'numpy.int64'>'\n",
       "\twith 565525 stored elements in Compressed Sparse Row format>"
      ]
     },
     "execution_count": 918,
     "metadata": {},
     "output_type": "execute_result"
    }
   ],
   "source": [
    "# Create a sparse matrix of number of items by FinelineNumber for each VisitNumber\n",
    "data = df['ItemsFN'].tolist()\n",
    "row = df.VisitNumber.astype('category', categories=VisitNumber_u).cat.codes\n",
    "col = df.FinelineNumber.astype('category', categories=FN_all).cat.codes\n",
    "FN_sm = csr_matrix((data, (row, col)), shape=(len(VisitNumber_u), len(FN_all)))\n",
    "FN_sm"
   ]
  },
  {
   "cell_type": "code",
   "execution_count": 919,
   "metadata": {
    "collapsed": false
   },
   "outputs": [
    {
     "data": {
      "text/plain": [
       "<95674x69 sparse matrix of type '<type 'numpy.int64'>'\n",
       "\twith 322129 stored elements in Compressed Sparse Row format>"
      ]
     },
     "execution_count": 919,
     "metadata": {},
     "output_type": "execute_result"
    }
   ],
   "source": [
    "# Create a sparse matrix of number of items by DepartmentDescription for each VisitNumber\n",
    "data = df['ItemsDD'].tolist()\n",
    "row = df.VisitNumber.astype('category', categories=VisitNumber_u).cat.codes\n",
    "col = df.DepartmentDescription.astype('category', categories=DD_all).cat.codes\n",
    "DD_sm = csr_matrix((data, (row, col)), shape=(len(VisitNumber_u), len(DD_all)))\n",
    "DD_sm"
   ]
  },
  {
   "cell_type": "code",
   "execution_count": 920,
   "metadata": {
    "collapsed": false,
    "scrolled": true
   },
   "outputs": [
    {
     "data": {
      "text/plain": [
       "<95674x3 sparse matrix of type '<type 'numpy.int64'>'\n",
       "\twith 198298 stored elements in Compressed Sparse Row format>"
      ]
     },
     "execution_count": 920,
     "metadata": {},
     "output_type": "execute_result"
    }
   ],
   "source": [
    "# Create a sparse matrix of the high level aggregate features\n",
    "aggs_u = ['NumItems', 'NumProducts', 'Return']\n",
    "aggs_sm = csr_matrix(aggs.values)\n",
    "aggs_sm"
   ]
  },
  {
   "cell_type": "code",
   "execution_count": 921,
   "metadata": {
    "collapsed": false
   },
   "outputs": [
    {
     "data": {
      "text/plain": [
       "130127"
      ]
     },
     "execution_count": 921,
     "metadata": {},
     "output_type": "execute_result"
    }
   ],
   "source": [
    "# Create column header lists because the sparse matrices are feature values only\n",
    "col_names_m = aggs_u + Weekday_u + [str(i)+\"Upc\" for i in Upc_all] + [str(i)+\"FN\" for i in FN_all] + DD_all\n",
    "col_names_l = aggs_u + Weekday_u + DD_all\n",
    "len(col_names_m)"
   ]
  },
  {
   "cell_type": "code",
   "execution_count": 922,
   "metadata": {
    "collapsed": false
   },
   "outputs": [
    {
     "name": "stdout",
     "output_type": "stream",
     "text": [
      "(95674, 130127)\n",
      "(95674, 79)\n"
     ]
    }
   ],
   "source": [
    "# Horizontally stack the different feature blocks\n",
    "sm_m = hstack(blocks=[aggs_sm,Weekday_sm,Upc_sm,FN_sm,DD_sm],format='csr')\n",
    "sm_l = hstack(blocks=[aggs_sm,Weekday_sm,DD_sm],format='csr')\n",
    "print sm_m.shape\n",
    "print sm_l.shape"
   ]
  },
  {
   "cell_type": "markdown",
   "metadata": {},
   "source": [
    "### Feature creation on the test data"
   ]
  },
  {
   "cell_type": "code",
   "execution_count": 923,
   "metadata": {
    "collapsed": false
   },
   "outputs": [
    {
     "data": {
      "text/html": [
       "<div>\n",
       "<table border=\"1\" class=\"dataframe\">\n",
       "  <thead>\n",
       "    <tr style=\"text-align: right;\">\n",
       "      <th></th>\n",
       "      <th>VisitNumber</th>\n",
       "      <th>Weekday</th>\n",
       "      <th>Upc</th>\n",
       "      <th>ScanCount</th>\n",
       "      <th>DepartmentDescription</th>\n",
       "      <th>FinelineNumber</th>\n",
       "    </tr>\n",
       "  </thead>\n",
       "  <tbody>\n",
       "    <tr>\n",
       "      <th>0</th>\n",
       "      <td>1</td>\n",
       "      <td>5</td>\n",
       "      <td>7.25034e+10</td>\n",
       "      <td>1</td>\n",
       "      <td>SHOES</td>\n",
       "      <td>3002</td>\n",
       "    </tr>\n",
       "    <tr>\n",
       "      <th>1</th>\n",
       "      <td>1</td>\n",
       "      <td>5</td>\n",
       "      <td>1.70771e+09</td>\n",
       "      <td>1</td>\n",
       "      <td>DAIRY</td>\n",
       "      <td>1526</td>\n",
       "    </tr>\n",
       "    <tr>\n",
       "      <th>2</th>\n",
       "      <td>1</td>\n",
       "      <td>5</td>\n",
       "      <td>8.947e+10</td>\n",
       "      <td>1</td>\n",
       "      <td>DAIRY</td>\n",
       "      <td>1431</td>\n",
       "    </tr>\n",
       "    <tr>\n",
       "      <th>3</th>\n",
       "      <td>1</td>\n",
       "      <td>5</td>\n",
       "      <td>8.84912e+10</td>\n",
       "      <td>1</td>\n",
       "      <td>GROCERY DRY GOODS</td>\n",
       "      <td>3555</td>\n",
       "    </tr>\n",
       "    <tr>\n",
       "      <th>4</th>\n",
       "      <td>2</td>\n",
       "      <td>5</td>\n",
       "      <td>2.84002e+09</td>\n",
       "      <td>1</td>\n",
       "      <td>DSD GROCERY</td>\n",
       "      <td>4408</td>\n",
       "    </tr>\n",
       "  </tbody>\n",
       "</table>\n",
       "</div>"
      ],
      "text/plain": [
       "   VisitNumber  Weekday          Upc  ScanCount DepartmentDescription  \\\n",
       "0            1        5  7.25034e+10          1                 SHOES   \n",
       "1            1        5  1.70771e+09          1                 DAIRY   \n",
       "2            1        5    8.947e+10          1                 DAIRY   \n",
       "3            1        5  8.84912e+10          1     GROCERY DRY GOODS   \n",
       "4            2        5  2.84002e+09          1           DSD GROCERY   \n",
       "\n",
       "  FinelineNumber  \n",
       "0           3002  \n",
       "1           1526  \n",
       "2           1431  \n",
       "3           3555  \n",
       "4           4408  "
      ]
     },
     "execution_count": 923,
     "metadata": {},
     "output_type": "execute_result"
    }
   ],
   "source": [
    "# Convert Weekday text variable to numerical\n",
    "dft['Weekday'] = dft['Weekday'].map({'Monday':1,'Tuesday':2,'Wednesday':3,'Thursday':4,'Friday':5,'Saturday':6,'Sunday':7})\n",
    "dft.head()"
   ]
  },
  {
   "cell_type": "code",
   "execution_count": 924,
   "metadata": {
    "collapsed": false
   },
   "outputs": [
    {
     "name": "stdout",
     "output_type": "stream",
     "text": [
      "Items in test, but not in train: []\n"
     ]
    }
   ],
   "source": [
    "# Show there are no new department descriptions in the test data set\n",
    "DD_train = list(df.DepartmentDescription.unique())\n",
    "DD_test = list(dft.DepartmentDescription.unique())\n",
    "DD_diff = [i for i in DD_test if i not in DD_train]\n",
    "print \"Items in test, but not in train:\", DD_diff"
   ]
  },
  {
   "cell_type": "code",
   "execution_count": 925,
   "metadata": {
    "collapsed": false
   },
   "outputs": [
    {
     "name": "stdout",
     "output_type": "stream",
     "text": [
      "Item number in test, but not in train: [8308.0, 5418.0, 5306.0, 8702.0, 797.0, 1479.0, 3048.0, 2292.0, 5493.0, 5368.0, 5369.0, 9865.0, 3244.0, 8060.0, 187.0, 1038.0, 2480.0, 3612.0, 5546.0, 5590.0, 6449.0, 7242.0, 186.0, 5355.0, 743.0, 9894.0, 6299.0, 9818.0, 7505.0, 7214.0, 1143.0, 9940.0, 6314.0, 7678.0, 1024.0, 8872.0, 7381.0, 1263.0, 3134.0, 9314.0, 2374.0, 1068.0, 6599.0, 9122.0, 3241.0, 9171.0, 1931.0, 6096.0, 3236.0, 6553.0, 964.0, 9811.0, 2566.0, 6781.0, 646.0, 1055.0, 7679.0, 546.0, 9895.0, 1429.0, 852.0, 8309.0, 751.0, 1124.0, 573.0, 6746.0, 8585.0, 9817.0, 2970.0, 5911.0, 7915.0, 7338.0, 6356.0, 3278.0, 1519.0, 9027.0, 1596.0, 1126.0, 6214.0, 2727.0, 4527.0, 4713.0, 4449.0, 8974.0, 7709.0, 798.0, 4448.0, 9015.0, 1461.0, 6107.0, 7412.0, 489.0, 3696.0, 9291.0, 2213.0, 7069.0, 8932.0, 828.0, 2578.0, 1492.0, 7234.0, 6063.0, 7620.0, 8412.0, 2770.0, 6358.0, 7154.0, 480.0, 7405.0, 3843.0, 9945.0, 746.0, 3653.0, 1713.0, 1054.0, 92.0, 5091.0, 2336.0, 9019.0, 7039.0, 6385.0, 3289.0, 3835.0, 6473.0, 678.0, 9739.0, 3135.0, 2576.0, 3136.0, 5902.0, 9999.0, 5709.0, 7448.0, 6399.0, 2209.0, 8827.0, 850.0, 5952.0, 5686.0, 9200.0, 4752.0, 9969.0, 2542.0, 8680.0, 8151.0, 3057.0, 1880.0, 3431.0, 6332.0, 1618.0, 6457.0, 7436.0, 5360.0, 4234.0, 9916.0, 5431.0, 8089.0, 4044.0]\n",
      "Number of items in test, but not in train: 158\n"
     ]
    }
   ],
   "source": [
    "# Show there are a large number of FinelineNumber's in the test data set that are not in the train data set\n",
    "FN_train = list(df.FinelineNumber.unique())\n",
    "FN_test = list(dft.FinelineNumber.unique())\n",
    "FN_diff = [i for i in FN_test if i not in FN_train]\n",
    "print \"Item number in test, but not in train:\", FN_diff\n",
    "print \"Number of items in test, but not in train:\", len(FN_diff)\n"
   ]
  },
  {
   "cell_type": "code",
   "execution_count": 926,
   "metadata": {
    "collapsed": false
   },
   "outputs": [
    {
     "data": {
      "text/html": [
       "<div>\n",
       "<table border=\"1\" class=\"dataframe\">\n",
       "  <thead>\n",
       "    <tr style=\"text-align: right;\">\n",
       "      <th></th>\n",
       "      <th>TripType</th>\n",
       "      <th>VisitNumber</th>\n",
       "      <th>Weekday</th>\n",
       "      <th>Upc</th>\n",
       "      <th>ScanCount</th>\n",
       "      <th>DepartmentDescription</th>\n",
       "      <th>FinelineNumber</th>\n",
       "      <th>Return</th>\n",
       "      <th>ItemsDD</th>\n",
       "      <th>ItemsFN</th>\n",
       "      <th>NumProducts</th>\n",
       "      <th>NumItems</th>\n",
       "    </tr>\n",
       "  </thead>\n",
       "  <tbody>\n",
       "  </tbody>\n",
       "</table>\n",
       "</div>"
      ],
      "text/plain": [
       "Empty DataFrame\n",
       "Columns: [TripType, VisitNumber, Weekday, Upc, ScanCount, DepartmentDescription, FinelineNumber, Return, ItemsDD, ItemsFN, NumProducts, NumItems]\n",
       "Index: []"
      ]
     },
     "execution_count": 926,
     "metadata": {},
     "output_type": "execute_result"
    }
   ],
   "source": [
    "df[df['FinelineNumber'] == 8308]"
   ]
  },
  {
   "cell_type": "code",
   "execution_count": 927,
   "metadata": {
    "collapsed": false
   },
   "outputs": [
    {
     "data": {
      "text/html": [
       "<div>\n",
       "<table border=\"1\" class=\"dataframe\">\n",
       "  <thead>\n",
       "    <tr style=\"text-align: right;\">\n",
       "      <th></th>\n",
       "      <th>VisitNumber</th>\n",
       "      <th>Weekday</th>\n",
       "      <th>Upc</th>\n",
       "      <th>ScanCount</th>\n",
       "      <th>DepartmentDescription</th>\n",
       "      <th>FinelineNumber</th>\n",
       "    </tr>\n",
       "  </thead>\n",
       "  <tbody>\n",
       "    <tr>\n",
       "      <th>1307</th>\n",
       "      <td>555</td>\n",
       "      <td>5</td>\n",
       "      <td>8.15419e+10</td>\n",
       "      <td>1</td>\n",
       "      <td>SPORTING GOODS</td>\n",
       "      <td>8308</td>\n",
       "    </tr>\n",
       "  </tbody>\n",
       "</table>\n",
       "</div>"
      ],
      "text/plain": [
       "      VisitNumber  Weekday          Upc  ScanCount DepartmentDescription  \\\n",
       "1307          555        5  8.15419e+10          1        SPORTING GOODS   \n",
       "\n",
       "     FinelineNumber  \n",
       "1307           8308  "
      ]
     },
     "execution_count": 927,
     "metadata": {},
     "output_type": "execute_result"
    }
   ],
   "source": [
    "dft[dft['FinelineNumber'] == 8308]"
   ]
  },
  {
   "cell_type": "code",
   "execution_count": 928,
   "metadata": {
    "collapsed": false
   },
   "outputs": [
    {
     "data": {
      "text/html": [
       "<div>\n",
       "<table border=\"1\" class=\"dataframe\">\n",
       "  <thead>\n",
       "    <tr style=\"text-align: right;\">\n",
       "      <th></th>\n",
       "      <th>VisitNumber</th>\n",
       "      <th>Weekday</th>\n",
       "      <th>Upc</th>\n",
       "      <th>ScanCount</th>\n",
       "      <th>DepartmentDescription</th>\n",
       "      <th>FinelineNumber</th>\n",
       "      <th>Return</th>\n",
       "    </tr>\n",
       "  </thead>\n",
       "  <tbody>\n",
       "    <tr>\n",
       "      <th>0</th>\n",
       "      <td>1</td>\n",
       "      <td>5</td>\n",
       "      <td>7.25034e+10</td>\n",
       "      <td>1</td>\n",
       "      <td>SHOES</td>\n",
       "      <td>3002</td>\n",
       "      <td>0</td>\n",
       "    </tr>\n",
       "    <tr>\n",
       "      <th>1</th>\n",
       "      <td>1</td>\n",
       "      <td>5</td>\n",
       "      <td>1.70771e+09</td>\n",
       "      <td>1</td>\n",
       "      <td>DAIRY</td>\n",
       "      <td>1526</td>\n",
       "      <td>0</td>\n",
       "    </tr>\n",
       "    <tr>\n",
       "      <th>2</th>\n",
       "      <td>1</td>\n",
       "      <td>5</td>\n",
       "      <td>8.947e+10</td>\n",
       "      <td>1</td>\n",
       "      <td>DAIRY</td>\n",
       "      <td>1431</td>\n",
       "      <td>0</td>\n",
       "    </tr>\n",
       "    <tr>\n",
       "      <th>3</th>\n",
       "      <td>1</td>\n",
       "      <td>5</td>\n",
       "      <td>8.84912e+10</td>\n",
       "      <td>1</td>\n",
       "      <td>GROCERY DRY GOODS</td>\n",
       "      <td>3555</td>\n",
       "      <td>0</td>\n",
       "    </tr>\n",
       "    <tr>\n",
       "      <th>4</th>\n",
       "      <td>2</td>\n",
       "      <td>5</td>\n",
       "      <td>2.84002e+09</td>\n",
       "      <td>1</td>\n",
       "      <td>DSD GROCERY</td>\n",
       "      <td>4408</td>\n",
       "      <td>0</td>\n",
       "    </tr>\n",
       "  </tbody>\n",
       "</table>\n",
       "</div>"
      ],
      "text/plain": [
       "   VisitNumber  Weekday          Upc  ScanCount DepartmentDescription  \\\n",
       "0            1        5  7.25034e+10          1                 SHOES   \n",
       "1            1        5  1.70771e+09          1                 DAIRY   \n",
       "2            1        5    8.947e+10          1                 DAIRY   \n",
       "3            1        5  8.84912e+10          1     GROCERY DRY GOODS   \n",
       "4            2        5  2.84002e+09          1           DSD GROCERY   \n",
       "\n",
       "  FinelineNumber  Return  \n",
       "0           3002       0  \n",
       "1           1526       0  \n",
       "2           1431       0  \n",
       "3           3555       0  \n",
       "4           4408       0  "
      ]
     },
     "execution_count": 928,
     "metadata": {},
     "output_type": "execute_result"
    }
   ],
   "source": [
    "# Create a return dummy\n",
    "dft['Return'] = np.where(dft['ScanCount'] > 0, 0 , 1)\n",
    "dft.head()"
   ]
  },
  {
   "cell_type": "code",
   "execution_count": 929,
   "metadata": {
    "collapsed": false
   },
   "outputs": [],
   "source": [
    "# Convert ScanCount negatives to 0's\n",
    "if convert_zeroes:\n",
    "    dft['ScanCount'] = np.where(dft['ScanCount'] < 0 , 0, dft['ScanCount'])\n",
    "    dft.head()"
   ]
  },
  {
   "cell_type": "code",
   "execution_count": 930,
   "metadata": {
    "collapsed": false
   },
   "outputs": [
    {
     "data": {
      "text/html": [
       "<div>\n",
       "<table border=\"1\" class=\"dataframe\">\n",
       "  <thead>\n",
       "    <tr style=\"text-align: right;\">\n",
       "      <th></th>\n",
       "      <th>VisitNumber</th>\n",
       "      <th>Weekday</th>\n",
       "      <th>Upc</th>\n",
       "      <th>ScanCount</th>\n",
       "      <th>DepartmentDescription</th>\n",
       "      <th>FinelineNumber</th>\n",
       "      <th>Return</th>\n",
       "      <th>ItemsDD</th>\n",
       "    </tr>\n",
       "  </thead>\n",
       "  <tbody>\n",
       "    <tr>\n",
       "      <th>0</th>\n",
       "      <td>1</td>\n",
       "      <td>5</td>\n",
       "      <td>7.25034e+10</td>\n",
       "      <td>1</td>\n",
       "      <td>SHOES</td>\n",
       "      <td>3002</td>\n",
       "      <td>0</td>\n",
       "      <td>1</td>\n",
       "    </tr>\n",
       "    <tr>\n",
       "      <th>1</th>\n",
       "      <td>1</td>\n",
       "      <td>5</td>\n",
       "      <td>1.70771e+09</td>\n",
       "      <td>1</td>\n",
       "      <td>DAIRY</td>\n",
       "      <td>1526</td>\n",
       "      <td>0</td>\n",
       "      <td>2</td>\n",
       "    </tr>\n",
       "    <tr>\n",
       "      <th>2</th>\n",
       "      <td>1</td>\n",
       "      <td>5</td>\n",
       "      <td>8.947e+10</td>\n",
       "      <td>1</td>\n",
       "      <td>DAIRY</td>\n",
       "      <td>1431</td>\n",
       "      <td>0</td>\n",
       "      <td>2</td>\n",
       "    </tr>\n",
       "    <tr>\n",
       "      <th>3</th>\n",
       "      <td>1</td>\n",
       "      <td>5</td>\n",
       "      <td>8.84912e+10</td>\n",
       "      <td>1</td>\n",
       "      <td>GROCERY DRY GOODS</td>\n",
       "      <td>3555</td>\n",
       "      <td>0</td>\n",
       "      <td>1</td>\n",
       "    </tr>\n",
       "    <tr>\n",
       "      <th>4</th>\n",
       "      <td>2</td>\n",
       "      <td>5</td>\n",
       "      <td>2.84002e+09</td>\n",
       "      <td>1</td>\n",
       "      <td>DSD GROCERY</td>\n",
       "      <td>4408</td>\n",
       "      <td>0</td>\n",
       "      <td>1</td>\n",
       "    </tr>\n",
       "  </tbody>\n",
       "</table>\n",
       "</div>"
      ],
      "text/plain": [
       "   VisitNumber  Weekday          Upc  ScanCount DepartmentDescription  \\\n",
       "0            1        5  7.25034e+10          1                 SHOES   \n",
       "1            1        5  1.70771e+09          1                 DAIRY   \n",
       "2            1        5    8.947e+10          1                 DAIRY   \n",
       "3            1        5  8.84912e+10          1     GROCERY DRY GOODS   \n",
       "4            2        5  2.84002e+09          1           DSD GROCERY   \n",
       "\n",
       "  FinelineNumber  Return  ItemsDD  \n",
       "0           3002       0        1  \n",
       "1           1526       0        2  \n",
       "2           1431       0        2  \n",
       "3           3555       0        1  \n",
       "4           4408       0        1  "
      ]
     },
     "execution_count": 930,
     "metadata": {},
     "output_type": "execute_result"
    }
   ],
   "source": [
    "# Aggregate number of items by Department Description, i.e. sum ScanCount\n",
    "ddt = dft.groupby(['VisitNumber','DepartmentDescription'], as_index=False)['ScanCount'].sum()\n",
    "ddt = ddt.rename(columns={'ScanCount': 'ItemsDD'})\n",
    "dft = pd.merge(left=dft, right=ddt, on=['VisitNumber','DepartmentDescription'], how='left')\n",
    "dft.head()\n"
   ]
  },
  {
   "cell_type": "code",
   "execution_count": 931,
   "metadata": {
    "collapsed": false
   },
   "outputs": [
    {
     "data": {
      "text/html": [
       "<div>\n",
       "<table border=\"1\" class=\"dataframe\">\n",
       "  <thead>\n",
       "    <tr style=\"text-align: right;\">\n",
       "      <th></th>\n",
       "      <th>VisitNumber</th>\n",
       "      <th>Weekday</th>\n",
       "      <th>Upc</th>\n",
       "      <th>ScanCount</th>\n",
       "      <th>DepartmentDescription</th>\n",
       "      <th>FinelineNumber</th>\n",
       "      <th>Return</th>\n",
       "      <th>ItemsDD</th>\n",
       "      <th>ItemsFN</th>\n",
       "    </tr>\n",
       "  </thead>\n",
       "  <tbody>\n",
       "    <tr>\n",
       "      <th>0</th>\n",
       "      <td>1</td>\n",
       "      <td>5</td>\n",
       "      <td>7.25034e+10</td>\n",
       "      <td>1</td>\n",
       "      <td>SHOES</td>\n",
       "      <td>3002</td>\n",
       "      <td>0</td>\n",
       "      <td>1</td>\n",
       "      <td>1</td>\n",
       "    </tr>\n",
       "    <tr>\n",
       "      <th>1</th>\n",
       "      <td>1</td>\n",
       "      <td>5</td>\n",
       "      <td>1.70771e+09</td>\n",
       "      <td>1</td>\n",
       "      <td>DAIRY</td>\n",
       "      <td>1526</td>\n",
       "      <td>0</td>\n",
       "      <td>2</td>\n",
       "      <td>1</td>\n",
       "    </tr>\n",
       "    <tr>\n",
       "      <th>2</th>\n",
       "      <td>1</td>\n",
       "      <td>5</td>\n",
       "      <td>8.947e+10</td>\n",
       "      <td>1</td>\n",
       "      <td>DAIRY</td>\n",
       "      <td>1431</td>\n",
       "      <td>0</td>\n",
       "      <td>2</td>\n",
       "      <td>1</td>\n",
       "    </tr>\n",
       "    <tr>\n",
       "      <th>3</th>\n",
       "      <td>1</td>\n",
       "      <td>5</td>\n",
       "      <td>8.84912e+10</td>\n",
       "      <td>1</td>\n",
       "      <td>GROCERY DRY GOODS</td>\n",
       "      <td>3555</td>\n",
       "      <td>0</td>\n",
       "      <td>1</td>\n",
       "      <td>1</td>\n",
       "    </tr>\n",
       "    <tr>\n",
       "      <th>4</th>\n",
       "      <td>2</td>\n",
       "      <td>5</td>\n",
       "      <td>2.84002e+09</td>\n",
       "      <td>1</td>\n",
       "      <td>DSD GROCERY</td>\n",
       "      <td>4408</td>\n",
       "      <td>0</td>\n",
       "      <td>1</td>\n",
       "      <td>1</td>\n",
       "    </tr>\n",
       "  </tbody>\n",
       "</table>\n",
       "</div>"
      ],
      "text/plain": [
       "   VisitNumber  Weekday          Upc  ScanCount DepartmentDescription  \\\n",
       "0            1        5  7.25034e+10          1                 SHOES   \n",
       "1            1        5  1.70771e+09          1                 DAIRY   \n",
       "2            1        5    8.947e+10          1                 DAIRY   \n",
       "3            1        5  8.84912e+10          1     GROCERY DRY GOODS   \n",
       "4            2        5  2.84002e+09          1           DSD GROCERY   \n",
       "\n",
       "  FinelineNumber  Return  ItemsDD  ItemsFN  \n",
       "0           3002       0        1        1  \n",
       "1           1526       0        2        1  \n",
       "2           1431       0        2        1  \n",
       "3           3555       0        1        1  \n",
       "4           4408       0        1        1  "
      ]
     },
     "execution_count": 931,
     "metadata": {},
     "output_type": "execute_result"
    }
   ],
   "source": [
    "# Aggregate number of items by FinelineNumber, i.e. sum ScanCount\n",
    "fnt = dft.groupby(['VisitNumber','FinelineNumber'], as_index=False)['ScanCount'].sum()\n",
    "fnt = fnt.rename(columns={'ScanCount': 'ItemsFN'})\n",
    "dft = pd.merge(left=dft, right=fnt, on=['VisitNumber','FinelineNumber'], how='left')\n",
    "dft.head()"
   ]
  },
  {
   "cell_type": "code",
   "execution_count": 932,
   "metadata": {
    "collapsed": false
   },
   "outputs": [
    {
     "data": {
      "text/html": [
       "<div>\n",
       "<table border=\"1\" class=\"dataframe\">\n",
       "  <thead>\n",
       "    <tr style=\"text-align: right;\">\n",
       "      <th></th>\n",
       "      <th>VisitNumber</th>\n",
       "      <th>Weekday</th>\n",
       "      <th>Upc</th>\n",
       "      <th>ScanCount</th>\n",
       "      <th>DepartmentDescription</th>\n",
       "      <th>FinelineNumber</th>\n",
       "      <th>Return</th>\n",
       "      <th>ItemsDD</th>\n",
       "      <th>ItemsFN</th>\n",
       "      <th>NumProducts</th>\n",
       "    </tr>\n",
       "  </thead>\n",
       "  <tbody>\n",
       "    <tr>\n",
       "      <th>0</th>\n",
       "      <td>1</td>\n",
       "      <td>5</td>\n",
       "      <td>7.25034e+10</td>\n",
       "      <td>1</td>\n",
       "      <td>SHOES</td>\n",
       "      <td>3002</td>\n",
       "      <td>0</td>\n",
       "      <td>1</td>\n",
       "      <td>1</td>\n",
       "      <td>4</td>\n",
       "    </tr>\n",
       "    <tr>\n",
       "      <th>1</th>\n",
       "      <td>1</td>\n",
       "      <td>5</td>\n",
       "      <td>1.70771e+09</td>\n",
       "      <td>1</td>\n",
       "      <td>DAIRY</td>\n",
       "      <td>1526</td>\n",
       "      <td>0</td>\n",
       "      <td>2</td>\n",
       "      <td>1</td>\n",
       "      <td>4</td>\n",
       "    </tr>\n",
       "    <tr>\n",
       "      <th>2</th>\n",
       "      <td>1</td>\n",
       "      <td>5</td>\n",
       "      <td>8.947e+10</td>\n",
       "      <td>1</td>\n",
       "      <td>DAIRY</td>\n",
       "      <td>1431</td>\n",
       "      <td>0</td>\n",
       "      <td>2</td>\n",
       "      <td>1</td>\n",
       "      <td>4</td>\n",
       "    </tr>\n",
       "    <tr>\n",
       "      <th>3</th>\n",
       "      <td>1</td>\n",
       "      <td>5</td>\n",
       "      <td>8.84912e+10</td>\n",
       "      <td>1</td>\n",
       "      <td>GROCERY DRY GOODS</td>\n",
       "      <td>3555</td>\n",
       "      <td>0</td>\n",
       "      <td>1</td>\n",
       "      <td>1</td>\n",
       "      <td>4</td>\n",
       "    </tr>\n",
       "    <tr>\n",
       "      <th>4</th>\n",
       "      <td>2</td>\n",
       "      <td>5</td>\n",
       "      <td>2.84002e+09</td>\n",
       "      <td>1</td>\n",
       "      <td>DSD GROCERY</td>\n",
       "      <td>4408</td>\n",
       "      <td>0</td>\n",
       "      <td>1</td>\n",
       "      <td>1</td>\n",
       "      <td>4</td>\n",
       "    </tr>\n",
       "  </tbody>\n",
       "</table>\n",
       "</div>"
      ],
      "text/plain": [
       "   VisitNumber  Weekday          Upc  ScanCount DepartmentDescription  \\\n",
       "0            1        5  7.25034e+10          1                 SHOES   \n",
       "1            1        5  1.70771e+09          1                 DAIRY   \n",
       "2            1        5    8.947e+10          1                 DAIRY   \n",
       "3            1        5  8.84912e+10          1     GROCERY DRY GOODS   \n",
       "4            2        5  2.84002e+09          1           DSD GROCERY   \n",
       "\n",
       "  FinelineNumber  Return  ItemsDD  ItemsFN  NumProducts  \n",
       "0           3002       0        1        1            4  \n",
       "1           1526       0        2        1            4  \n",
       "2           1431       0        2        1            4  \n",
       "3           3555       0        1        1            4  \n",
       "4           4408       0        1        1            4  "
      ]
     },
     "execution_count": 932,
     "metadata": {},
     "output_type": "execute_result"
    }
   ],
   "source": [
    "# Aggregate number of products by VisitNumber, i.e. count TripType\n",
    "wdt = dft.groupby(['VisitNumber','Weekday'], as_index=False)['ScanCount'].count()\n",
    "wdt = wdt.rename(columns={'ScanCount': 'NumProducts'})\n",
    "dft = pd.merge(left=dft, right=wdt, on=['VisitNumber','Weekday'], how='left')\n",
    "dft.head(5)"
   ]
  },
  {
   "cell_type": "code",
   "execution_count": 933,
   "metadata": {
    "collapsed": false
   },
   "outputs": [
    {
     "data": {
      "text/html": [
       "<div>\n",
       "<table border=\"1\" class=\"dataframe\">\n",
       "  <thead>\n",
       "    <tr style=\"text-align: right;\">\n",
       "      <th></th>\n",
       "      <th>VisitNumber</th>\n",
       "      <th>Return</th>\n",
       "    </tr>\n",
       "  </thead>\n",
       "  <tbody>\n",
       "    <tr>\n",
       "      <th>0</th>\n",
       "      <td>1</td>\n",
       "      <td>0</td>\n",
       "    </tr>\n",
       "    <tr>\n",
       "      <th>1</th>\n",
       "      <td>2</td>\n",
       "      <td>0</td>\n",
       "    </tr>\n",
       "    <tr>\n",
       "      <th>2</th>\n",
       "      <td>3</td>\n",
       "      <td>1</td>\n",
       "    </tr>\n",
       "    <tr>\n",
       "      <th>3</th>\n",
       "      <td>4</td>\n",
       "      <td>0</td>\n",
       "    </tr>\n",
       "    <tr>\n",
       "      <th>4</th>\n",
       "      <td>6</td>\n",
       "      <td>1</td>\n",
       "    </tr>\n",
       "  </tbody>\n",
       "</table>\n",
       "</div>"
      ],
      "text/plain": [
       "   VisitNumber  Return\n",
       "0            1       0\n",
       "1            2       0\n",
       "2            3       1\n",
       "3            4       0\n",
       "4            6       1"
      ]
     },
     "execution_count": 933,
     "metadata": {},
     "output_type": "execute_result"
    }
   ],
   "source": [
    "# Create a return dummy for each shopping visit\n",
    "rtt = dft.groupby(['VisitNumber'], as_index=False)['Return'].sum()\n",
    "rtt['Return'] = np.where(rtt['Return'] > 0 , 1, 0)\n",
    "rtt.head(5)"
   ]
  },
  {
   "cell_type": "code",
   "execution_count": 934,
   "metadata": {
    "collapsed": false
   },
   "outputs": [
    {
     "data": {
      "text/html": [
       "<div>\n",
       "<table border=\"1\" class=\"dataframe\">\n",
       "  <thead>\n",
       "    <tr style=\"text-align: right;\">\n",
       "      <th></th>\n",
       "      <th>VisitNumber</th>\n",
       "      <th>Weekday</th>\n",
       "      <th>Upc</th>\n",
       "      <th>ScanCount</th>\n",
       "      <th>DepartmentDescription</th>\n",
       "      <th>FinelineNumber</th>\n",
       "      <th>Return</th>\n",
       "      <th>ItemsDD</th>\n",
       "      <th>ItemsFN</th>\n",
       "      <th>NumProducts</th>\n",
       "      <th>NumItems</th>\n",
       "    </tr>\n",
       "  </thead>\n",
       "  <tbody>\n",
       "    <tr>\n",
       "      <th>0</th>\n",
       "      <td>1</td>\n",
       "      <td>5</td>\n",
       "      <td>7.25034e+10</td>\n",
       "      <td>1</td>\n",
       "      <td>SHOES</td>\n",
       "      <td>3002</td>\n",
       "      <td>0</td>\n",
       "      <td>1</td>\n",
       "      <td>1</td>\n",
       "      <td>4</td>\n",
       "      <td>4</td>\n",
       "    </tr>\n",
       "    <tr>\n",
       "      <th>1</th>\n",
       "      <td>1</td>\n",
       "      <td>5</td>\n",
       "      <td>1.70771e+09</td>\n",
       "      <td>1</td>\n",
       "      <td>DAIRY</td>\n",
       "      <td>1526</td>\n",
       "      <td>0</td>\n",
       "      <td>2</td>\n",
       "      <td>1</td>\n",
       "      <td>4</td>\n",
       "      <td>4</td>\n",
       "    </tr>\n",
       "    <tr>\n",
       "      <th>2</th>\n",
       "      <td>1</td>\n",
       "      <td>5</td>\n",
       "      <td>8.947e+10</td>\n",
       "      <td>1</td>\n",
       "      <td>DAIRY</td>\n",
       "      <td>1431</td>\n",
       "      <td>0</td>\n",
       "      <td>2</td>\n",
       "      <td>1</td>\n",
       "      <td>4</td>\n",
       "      <td>4</td>\n",
       "    </tr>\n",
       "    <tr>\n",
       "      <th>3</th>\n",
       "      <td>1</td>\n",
       "      <td>5</td>\n",
       "      <td>8.84912e+10</td>\n",
       "      <td>1</td>\n",
       "      <td>GROCERY DRY GOODS</td>\n",
       "      <td>3555</td>\n",
       "      <td>0</td>\n",
       "      <td>1</td>\n",
       "      <td>1</td>\n",
       "      <td>4</td>\n",
       "      <td>4</td>\n",
       "    </tr>\n",
       "    <tr>\n",
       "      <th>4</th>\n",
       "      <td>2</td>\n",
       "      <td>5</td>\n",
       "      <td>2.84002e+09</td>\n",
       "      <td>1</td>\n",
       "      <td>DSD GROCERY</td>\n",
       "      <td>4408</td>\n",
       "      <td>0</td>\n",
       "      <td>1</td>\n",
       "      <td>1</td>\n",
       "      <td>4</td>\n",
       "      <td>4</td>\n",
       "    </tr>\n",
       "    <tr>\n",
       "      <th>5</th>\n",
       "      <td>2</td>\n",
       "      <td>5</td>\n",
       "      <td>7.87421e+09</td>\n",
       "      <td>1</td>\n",
       "      <td>BAKERY</td>\n",
       "      <td>5019</td>\n",
       "      <td>0</td>\n",
       "      <td>1</td>\n",
       "      <td>1</td>\n",
       "      <td>4</td>\n",
       "      <td>4</td>\n",
       "    </tr>\n",
       "    <tr>\n",
       "      <th>6</th>\n",
       "      <td>2</td>\n",
       "      <td>5</td>\n",
       "      <td>8.74586e+10</td>\n",
       "      <td>1</td>\n",
       "      <td>IMPULSE MERCHANDISE</td>\n",
       "      <td>8023</td>\n",
       "      <td>0</td>\n",
       "      <td>2</td>\n",
       "      <td>2</td>\n",
       "      <td>4</td>\n",
       "      <td>4</td>\n",
       "    </tr>\n",
       "    <tr>\n",
       "      <th>7</th>\n",
       "      <td>2</td>\n",
       "      <td>5</td>\n",
       "      <td>8.74586e+10</td>\n",
       "      <td>1</td>\n",
       "      <td>IMPULSE MERCHANDISE</td>\n",
       "      <td>8023</td>\n",
       "      <td>0</td>\n",
       "      <td>2</td>\n",
       "      <td>2</td>\n",
       "      <td>4</td>\n",
       "      <td>4</td>\n",
       "    </tr>\n",
       "    <tr>\n",
       "      <th>8</th>\n",
       "      <td>3</td>\n",
       "      <td>5</td>\n",
       "      <td>7.41081e+09</td>\n",
       "      <td>0</td>\n",
       "      <td>PERSONAL CARE</td>\n",
       "      <td>4504</td>\n",
       "      <td>1</td>\n",
       "      <td>1</td>\n",
       "      <td>1</td>\n",
       "      <td>2</td>\n",
       "      <td>1</td>\n",
       "    </tr>\n",
       "    <tr>\n",
       "      <th>9</th>\n",
       "      <td>3</td>\n",
       "      <td>5</td>\n",
       "      <td>7.41081e+09</td>\n",
       "      <td>1</td>\n",
       "      <td>PERSONAL CARE</td>\n",
       "      <td>4504</td>\n",
       "      <td>0</td>\n",
       "      <td>1</td>\n",
       "      <td>1</td>\n",
       "      <td>2</td>\n",
       "      <td>1</td>\n",
       "    </tr>\n",
       "  </tbody>\n",
       "</table>\n",
       "</div>"
      ],
      "text/plain": [
       "   VisitNumber  Weekday          Upc  ScanCount DepartmentDescription  \\\n",
       "0            1        5  7.25034e+10          1                 SHOES   \n",
       "1            1        5  1.70771e+09          1                 DAIRY   \n",
       "2            1        5    8.947e+10          1                 DAIRY   \n",
       "3            1        5  8.84912e+10          1     GROCERY DRY GOODS   \n",
       "4            2        5  2.84002e+09          1           DSD GROCERY   \n",
       "5            2        5  7.87421e+09          1                BAKERY   \n",
       "6            2        5  8.74586e+10          1   IMPULSE MERCHANDISE   \n",
       "7            2        5  8.74586e+10          1   IMPULSE MERCHANDISE   \n",
       "8            3        5  7.41081e+09          0         PERSONAL CARE   \n",
       "9            3        5  7.41081e+09          1         PERSONAL CARE   \n",
       "\n",
       "  FinelineNumber  Return  ItemsDD  ItemsFN  NumProducts  NumItems  \n",
       "0           3002       0        1        1            4         4  \n",
       "1           1526       0        2        1            4         4  \n",
       "2           1431       0        2        1            4         4  \n",
       "3           3555       0        1        1            4         4  \n",
       "4           4408       0        1        1            4         4  \n",
       "5           5019       0        1        1            4         4  \n",
       "6           8023       0        2        2            4         4  \n",
       "7           8023       0        2        2            4         4  \n",
       "8           4504       1        1        1            2         1  \n",
       "9           4504       0        1        1            2         1  "
      ]
     },
     "execution_count": 934,
     "metadata": {},
     "output_type": "execute_result"
    }
   ],
   "source": [
    "# Aggregate number of items by VisitNumber, i.e sum ScanCount\n",
    "ttt = dft.groupby(['VisitNumber'], as_index=False)['ScanCount'].sum()\n",
    "ttt = ttt.rename(columns={'ScanCount': 'NumItems'})\n",
    "dft = pd.merge(left=dft, right=ttt, on=['VisitNumber'], how='left')\n",
    "dft.head(10)"
   ]
  },
  {
   "cell_type": "code",
   "execution_count": 935,
   "metadata": {
    "collapsed": false
   },
   "outputs": [
    {
     "data": {
      "text/html": [
       "<div>\n",
       "<table border=\"1\" class=\"dataframe\">\n",
       "  <thead>\n",
       "    <tr style=\"text-align: right;\">\n",
       "      <th></th>\n",
       "      <th>VisitNumber</th>\n",
       "      <th>NumItems</th>\n",
       "      <th>NumProducts</th>\n",
       "      <th>Return</th>\n",
       "    </tr>\n",
       "  </thead>\n",
       "  <tbody>\n",
       "    <tr>\n",
       "      <th>0</th>\n",
       "      <td>1</td>\n",
       "      <td>4</td>\n",
       "      <td>4</td>\n",
       "      <td>0</td>\n",
       "    </tr>\n",
       "    <tr>\n",
       "      <th>1</th>\n",
       "      <td>2</td>\n",
       "      <td>4</td>\n",
       "      <td>4</td>\n",
       "      <td>0</td>\n",
       "    </tr>\n",
       "    <tr>\n",
       "      <th>2</th>\n",
       "      <td>3</td>\n",
       "      <td>1</td>\n",
       "      <td>2</td>\n",
       "      <td>1</td>\n",
       "    </tr>\n",
       "    <tr>\n",
       "      <th>3</th>\n",
       "      <td>4</td>\n",
       "      <td>1</td>\n",
       "      <td>1</td>\n",
       "      <td>0</td>\n",
       "    </tr>\n",
       "    <tr>\n",
       "      <th>4</th>\n",
       "      <td>6</td>\n",
       "      <td>1</td>\n",
       "      <td>2</td>\n",
       "      <td>1</td>\n",
       "    </tr>\n",
       "  </tbody>\n",
       "</table>\n",
       "</div>"
      ],
      "text/plain": [
       "   VisitNumber  NumItems  NumProducts  Return\n",
       "0            1         4            4       0\n",
       "1            2         4            4       0\n",
       "2            3         1            2       1\n",
       "3            4         1            1       0\n",
       "4            6         1            2       1"
      ]
     },
     "execution_count": 935,
     "metadata": {},
     "output_type": "execute_result"
    }
   ],
   "source": [
    "# Combine aggregates and sort by VisitNumber to get ordered row names of VisitNumber\n",
    "ttt['NumProducts'] = wdt.NumProducts\n",
    "ttt['Return'] = rtt.Return\n",
    "ttt.sort_values('VisitNumber')\n",
    "aggs = ttt[['NumItems', 'NumProducts', 'Return']]\n",
    "ttt.head()"
   ]
  },
  {
   "cell_type": "code",
   "execution_count": 936,
   "metadata": {
    "collapsed": false
   },
   "outputs": [
    {
     "data": {
      "text/plain": [
       "0    1\n",
       "1    2\n",
       "2    3\n",
       "3    4\n",
       "4    6\n",
       "Name: VisitNumber, dtype: int64"
      ]
     },
     "execution_count": 936,
     "metadata": {},
     "output_type": "execute_result"
    }
   ],
   "source": [
    "visit_numberst = ttt.VisitNumber\n",
    "visit_numberst.head()"
   ]
  },
  {
   "cell_type": "markdown",
   "metadata": {},
   "source": [
    "### Data Transformation"
   ]
  },
  {
   "cell_type": "code",
   "execution_count": null,
   "metadata": {
    "collapsed": true
   },
   "outputs": [],
   "source": [
    "def feature_transformation(df, df_other, convert_zeroes=False):\n",
    "\n",
    "    # Create a group of field headers that include categories from both the training and the test data sets\n",
    "    VisitNumber_u = list(sorted(df.VisitNumber.unique()))\n",
    "    VisitNumber_u_other = list(sorted(df_other.VisitNumber.unique()))\n",
    "\n",
    "    Upc_u = list(sorted(df.Upc.unique()))\n",
    "    Upc_u_other = list(sorted(df_other.Upc.unique()))\n",
    "    Upc_all = sorted(list(set(Upc_u)|set(Upc_u_other)))\n",
    "\n",
    "    FN_u = list(sorted(df.FinelineNumber.unique()))\n",
    "    FN_u_other = list(sorted(df_other.FinelineNumber.unique()))\n",
    "    FN_all = sorted(list(set(FN_u)|set(FN_u_other)))\n",
    "\n",
    "    DD_u = list(sorted(df.DepartmentDescription.unique()))\n",
    "    DD_u_other = list(sorted(df_other.DepartmentDescription.unique()))\n",
    "    DD_all = sorted(list(set(DD_u)|set(DD_u_other)))\n",
    "    \n",
    "    # Replace nulls will 'Unknown' product categories\n",
    "    df['Upc'] = df['Upc'].fillna('UnknownUpc')\n",
    "    df['DepartmentDescription'] = df['DepartmentDescription'].fillna('UnknownDD')\n",
    "    df['FinelineNumber'] = df['FinelineNumber'].fillna('UnknownFN')\n",
    "\n",
    "    # Convert Weekday text variable to numerical\n",
    "    df['Weekday'] = df['Weekday'].map({'Monday':1,'Tuesday':2,'Wednesday':3,'Thursday':4,'Friday':5,'Saturday':6,'Sunday':7})\n",
    " \n",
    "    # Create a return dummy\n",
    "    df['Return'] = np.where(df['ScanCount'] > 0, 0 , 1)\n",
    "\n",
    "    # Convert ScanCount negatives to 0's\n",
    "    if convert_zeroes:\n",
    "        df['ScanCount'] = np.where(df['ScanCount'] < 0 , 0, df['ScanCount'])\n",
    "\n",
    "    # Aggregate number of items by Department Description, i.e. sum ScanCount\n",
    "    dd = df.groupby(['VisitNumber','DepartmentDescription'], as_index=False)['ScanCount'].sum()\n",
    "    dd = dd.rename(columns={'ScanCount': 'ItemsDD'})\n",
    "    df = pd.merge(left=df, right=dd, on=['VisitNumber','DepartmentDescription'], how='left')\n",
    "\n",
    "    # Aggregate number of items by FinelineNumber, i.e. sum ScanCount\n",
    "    fn = df.groupby(['VisitNumber','FinelineNumber'], as_index=False)['ScanCount'].sum()\n",
    "    fn = fn.rename(columns={'ScanCount': 'ItemsFN'})\n",
    "    df = pd.merge(left=df, right=fn, on=['VisitNumber','FinelineNumber'], how='left')        \n",
    "\n",
    "    # Aggregate number of products by VisitNumber, i.e. count ScanCount\n",
    "    wd = df.groupby(['VisitNumber','Weekday'], as_index=False)['ScanCount'].count()\n",
    "    wd = wd.rename(columns={'ScanCount': 'NumProducts'})\n",
    "    Weekday_u = list(sorted(wd.Weekday.unique()))\n",
    "    df = pd.merge(left=df, right=wd, on=['VisitNumber','Weekday'], how='left')\n",
    "    \n",
    "    # Create a return dummy for each shopping visit\n",
    "    rt = df.groupby(['VisitNumber'], as_index=False)['Return'].sum()\n",
    "    rt['Return'] = np.where(rt['Return'] > 0 , 1, 0)\n",
    "\n",
    "    # Aggregate number of items by VisitNumber, i.e sum ScanCount\n",
    "    tt = df.groupby(['VisitNumber'], as_index=False)['ScanCount'].sum()\n",
    "    tt = tt.rename(columns={'ScanCount': 'NumItems'})\n",
    "    df = pd.merge(left=df, right=tt, on=['VisitNumber'], how='left')\n",
    "    \n",
    "    # Combine aggregates and sort by VisitNumber to get ordered row names of VisitNumber\n",
    "    tt['NumProducts'] = wd.NumProducts\n",
    "    tt['Return'] = rt.Return\n",
    "    tt.sort_values('VisitNumber')\n",
    "    aggs = tt[['NumItems', 'NumProducts', 'Return']] \n",
    "\n",
    "    # Isolate Visit Numbers\n",
    "    visit_numbers = tt.VisitNumber\n",
    "\n",
    "    # Create a sparse matrix of Weekday dummies for VisitNumber\n",
    "    data = wd['Weekday'].tolist()\n",
    "    row = wd.VisitNumber.astype('category', categories=VisitNumber_u).cat.codes\n",
    "    col = wd.Weekday.astype('category', categories=Weekday_u).cat.codes\n",
    "    Weekday_sm = csr_matrix((data, (row, col)), shape=(len(VisitNumber_u), len(Weekday_u)))\n",
    "\n",
    "    # Create a sparse matrix of number of items by Upc for each VisitNumber\n",
    "    data = df['ScanCount'].tolist()\n",
    "    row = df.VisitNumber.astype('category', categories=VisitNumber_u).cat.codes\n",
    "    col = df.Upc.astype('category', categories=Upc_all).cat.codes\n",
    "    Upc_sm = csr_matrix((data, (row, col)), shape=(len(VisitNumber_u), len(Upc_all)))\n",
    "\n",
    "    "
   ]
  },
  {
   "cell_type": "code",
   "execution_count": 937,
   "metadata": {
    "collapsed": false
   },
   "outputs": [
    {
     "data": {
      "text/plain": [
       "<95674x7 sparse matrix of type '<type 'numpy.int64'>'\n",
       "\twith 95674 stored elements in Compressed Sparse Row format>"
      ]
     },
     "execution_count": 937,
     "metadata": {},
     "output_type": "execute_result"
    }
   ],
   "source": [
    "# Create a sparse matrix of Weekday dummies for VisitNumber\n",
    "data = wdt['Weekday'].tolist()\n",
    "row = wdt.VisitNumber.astype('category', categories=VisitNumber_ut).cat.codes\n",
    "col = wdt.Weekday.astype('category', categories=Weekday_u).cat.codes\n",
    "Weekday_smt = csr_matrix((data, (row, col)), shape=(len(VisitNumber_ut), len(Weekday_u)))\n",
    "Weekday_smt"
   ]
  },
  {
   "cell_type": "code",
   "execution_count": 938,
   "metadata": {
    "collapsed": false
   },
   "outputs": [
    {
     "data": {
      "text/plain": [
       "<95674x124694 sparse matrix of type '<type 'numpy.int64'>'\n",
       "\twith 637564 stored elements in Compressed Sparse Row format>"
      ]
     },
     "execution_count": 938,
     "metadata": {},
     "output_type": "execute_result"
    }
   ],
   "source": [
    "# Create a sparse matrix of number of items by Upc for each VisitNumber\n",
    "data = dft['ScanCount'].tolist()\n",
    "row = dft.VisitNumber.astype('category', categories=VisitNumber_ut).cat.codes\n",
    "col = dft.Upc.astype('category', categories=Upc_all).cat.codes\n",
    "Upc_smt = csr_matrix((data, (row, col)), shape=(len(VisitNumber_ut), len(Upc_all)))\n",
    "Upc_smt"
   ]
  },
  {
   "cell_type": "code",
   "execution_count": 939,
   "metadata": {
    "collapsed": false,
    "scrolled": true
   },
   "outputs": [
    {
     "data": {
      "text/plain": [
       "<95674x5354 sparse matrix of type '<type 'numpy.int64'>'\n",
       "\twith 570069 stored elements in Compressed Sparse Row format>"
      ]
     },
     "execution_count": 939,
     "metadata": {},
     "output_type": "execute_result"
    }
   ],
   "source": [
    "# Create a sparse matrix of number of items by FinelineNumber for each VisitNumber\n",
    "data = dft['ItemsFN'].tolist()\n",
    "row = dft.VisitNumber.astype('category', categories=VisitNumber_ut).cat.codes\n",
    "col = dft.FinelineNumber.astype('category', categories=FN_all).cat.codes\n",
    "FN_smt = csr_matrix((data, (row, col)), shape=(len(VisitNumber_ut), len(FN_all)))\n",
    "FN_smt"
   ]
  },
  {
   "cell_type": "code",
   "execution_count": 940,
   "metadata": {
    "collapsed": false
   },
   "outputs": [
    {
     "data": {
      "text/plain": [
       "<95674x69 sparse matrix of type '<type 'numpy.int64'>'\n",
       "\twith 323632 stored elements in Compressed Sparse Row format>"
      ]
     },
     "execution_count": 940,
     "metadata": {},
     "output_type": "execute_result"
    }
   ],
   "source": [
    "# Create a sparse matrix of number of items by DepartmentDescription for each VisitNumber\n",
    "data = dft['ItemsDD'].tolist()\n",
    "row = dft.VisitNumber.astype('category', categories=VisitNumber_ut).cat.codes\n",
    "col = dft.DepartmentDescription.astype('category', categories=DD_all).cat.codes\n",
    "DD_smt = csr_matrix((data, (row, col)), shape=(len(VisitNumber_ut), len(DD_all)))\n",
    "DD_smt"
   ]
  },
  {
   "cell_type": "code",
   "execution_count": 941,
   "metadata": {
    "collapsed": false
   },
   "outputs": [
    {
     "data": {
      "text/plain": [
       "<95674x3 sparse matrix of type '<type 'numpy.int64'>'\n",
       "\twith 198433 stored elements in Compressed Sparse Row format>"
      ]
     },
     "execution_count": 941,
     "metadata": {},
     "output_type": "execute_result"
    }
   ],
   "source": [
    "# Create a sparse matrix of the high level aggregate features\n",
    "aggs_u = ['NumItems', 'NumProducts', 'Return']\n",
    "aggs_smt = csr_matrix(aggs.values)\n",
    "aggs_smt"
   ]
  },
  {
   "cell_type": "code",
   "execution_count": 942,
   "metadata": {
    "collapsed": false
   },
   "outputs": [
    {
     "name": "stdout",
     "output_type": "stream",
     "text": [
      "(95674, 130127)\n",
      "(95674, 79)\n"
     ]
    }
   ],
   "source": [
    "# Horizontally stack the blocks\n",
    "smt_m = hstack(blocks=[aggs_smt,Weekday_smt,Upc_smt,FN_smt,DD_smt],format='csr')\n",
    "smt_l = hstack(blocks=[aggs_smt,Weekday_smt,DD_smt],format='csr')\n",
    "print smt_m.shape\n",
    "print smt_l.shape"
   ]
  },
  {
   "cell_type": "markdown",
   "metadata": {},
   "source": [
    "### Fit a model"
   ]
  },
  {
   "cell_type": "markdown",
   "metadata": {},
   "source": [
    "Signature:\n",
    "\n",
    "    metrics.log_loss(y_true, y_pred, eps=1e-15, normalize=True, sample_weight=None, labels=None)\n",
    "\n",
    "Docstring: Log loss, aka logistic loss or **cross-entropy loss**.\n",
    "\n",
    "This is the loss function used in (**multinomial**) logistic regression\n",
    "and extensions of it such as **neural networks**, defined as the negative\n",
    "log-likelihood of the true labels given a probabilistic classifier's\n",
    "predictions. The log loss is only defined for two or more labels.\n",
    "For a single sample with true label yt in {0,1} and\n",
    "estimated probability yp that yt = 1, the log loss is\n",
    "\n",
    "    -log P(yt|yp) = -(yt log(yp) + (1 - yt) log(1 - yp))"
   ]
  },
  {
   "cell_type": "markdown",
   "metadata": {},
   "source": [
    "In the multiclass case, the training algorithm uses the one-vs-rest (OvR) scheme if the 'multi_class' option is set to 'ovr', and uses the **cross-entropy loss** if the **'multi_class'** option is set to **'multinomial'**. (Currently the **'multinomial'** option is supported only by the **'lbfgs'**,**'sag'** and **'newton-cg'** solvers.)"
   ]
  },
  {
   "cell_type": "markdown",
   "metadata": {},
   "source": [
    "For multiclass problems, only solver= 'newton-cg', 'sag' and 'lbfgs' handle multinomial loss."
   ]
  },
  {
   "cell_type": "code",
   "execution_count": 963,
   "metadata": {
    "collapsed": true
   },
   "outputs": [],
   "source": [
    "# Make a log-loss scorer for use in GridSearchCV\n",
    "my_log_loss = metrics.make_scorer(metrics.log_loss, greater_is_better=False, needs_proba=True)"
   ]
  },
  {
   "cell_type": "code",
   "execution_count": 944,
   "metadata": {
    "collapsed": false
   },
   "outputs": [
    {
     "name": "stdout",
     "output_type": "stream",
     "text": [
      "Trip type labels: [3, 4, 5, 6, 7, 8, 9, 12, 14, 15, 18, 19, 20, 21, 22, 23, 24, 25, 26, 27, 28, 29, 30, 31, 32, 33, 34, 35, 36, 37, 38, 39, 40, 41, 42, 43, 44, 999]\n",
      "Number of trip types: 38\n"
     ]
    }
   ],
   "source": [
    "# Create list of trip type labels\n",
    "trip_types = sorted(list(set(target)))\n",
    "print \"Trip type labels:\", trip_types\n",
    "print \"Number of trip types:\", len(trip_types)"
   ]
  },
  {
   "cell_type": "code",
   "execution_count": 969,
   "metadata": {
    "collapsed": false
   },
   "outputs": [],
   "source": [
    "# Choose the right sparse feature matrix for the classifier\n",
    "train_features = sm_l\n",
    "train_labels = target\n",
    "test_features = smt_l\n",
    "test_visit_numbers = visit_numberst\n",
    "test_trip_types = trip_types\n",
    "\n",
    "# Choose type of model run\n",
    "single_classifier = True\n",
    "\n",
    "# Fit model using a single classifier on training data sparse matrix (sm)\n",
    "if single_classifier:\n",
    "    # Set up classifier\n",
    "    clf = LogisticRegression(C=1000,multi_class='multinomial',solver='newton-cg',n_jobs=-1,tol=1,max_iter=400,warm_start=True)\n",
    "    \n",
    "    # Fit grid search\n",
    "    clf.fit(train_features,target)\n",
    "\n",
    "# Fit model using GridSearchCV on the training data sparse matrix (sm)\n",
    "else:\n",
    "    # Set up classifier\n",
    "    clf = MultinomialNB()\n",
    "    # clf = LogisticRegression(C=1000,multi_class='multinomial',solver='newton-cg',n_jobs=-1,tol=1,max_iter=200,warm_start=True)\n",
    "    # clf = LogisticRegression(C=10,multi_class='multinomial',solver='newton-cg',n_jobs=-1,tol=0.0001,max_iter=200,warm_start=True)\n",
    "\n",
    "    # Set up grid search\n",
    "    # gs = GridSearchCV(estimator=clf, param_grid={'alpha': [round(float(i)/100,2) for i in range(20,31)]},n_jobs=-1,cv=4)\n",
    "    gs = GridSearchCV(estimator=clf, param_grid={'alpha': [round(float(i)/100,2) for i in range(20,31)]},n_jobs=-1,cv=4,scoring=my_log_loss)\n",
    "\n",
    "    # Fit the grid search\n",
    "    gs.fit(train_features,target) \n",
    "\n",
    "    # Report grid search results \n",
    "    print gs.grid_scores_\n",
    "    print gs.best_estimator_\n",
    "    print gs.best_score_\n",
    "    print gs.best_params_\n"
   ]
  },
  {
   "cell_type": "code",
   "execution_count": 972,
   "metadata": {
    "collapsed": false
   },
   "outputs": [
    {
     "name": "stdout",
     "output_type": "stream",
     "text": [
      "Log loss: 0.007\n",
      "F1 score: 0.998\n",
      "\n",
      "Clasification Report:\n",
      "             precision    recall  f1-score   support\n",
      "\n",
      "          3       1.00      1.00      1.00      3643\n",
      "          4       1.00      1.00      1.00       346\n",
      "          5       1.00      1.00      1.00      4593\n",
      "          6       1.00      1.00      1.00      1277\n",
      "          7       1.00      1.00      1.00      5752\n",
      "          8       1.00      1.00      1.00     12161\n",
      "          9       1.00      1.00      1.00      9464\n",
      "         12       1.00      1.00      1.00       269\n",
      "         14       1.00      1.00      1.00         4\n",
      "         15       1.00      1.00      1.00       978\n",
      "         18       1.00      1.00      1.00       549\n",
      "         19       0.99      1.00      0.99       375\n",
      "         20       1.00      1.00      1.00       637\n",
      "         21       1.00      1.00      1.00       641\n",
      "         22       0.98      0.99      0.99       928\n",
      "         23       1.00      1.00      1.00       139\n",
      "         24       1.00      1.00      1.00      2609\n",
      "         25       1.00      1.00      1.00      3698\n",
      "         26       1.00      1.00      1.00       503\n",
      "         27       1.00      1.00      1.00       785\n",
      "         28       1.00      1.00      1.00       492\n",
      "         29       1.00      1.00      1.00       433\n",
      "         30       1.00      1.00      1.00      1081\n",
      "         31       1.00      1.00      1.00       594\n",
      "         32       1.00      1.00      1.00      1984\n",
      "         33       1.00      1.00      1.00      1315\n",
      "         34       1.00      1.00      1.00       719\n",
      "         35       1.00      0.99      0.99      2030\n",
      "         36       1.00      1.00      1.00      3005\n",
      "         37       1.00      1.00      1.00      2788\n",
      "         38       1.00      1.00      1.00      2912\n",
      "         39       1.00      1.00      1.00      9896\n",
      "         40       1.00      1.00      1.00      6130\n",
      "         41       1.00      1.00      1.00       583\n",
      "         42       1.00      1.00      1.00      1858\n",
      "         43       1.00      1.00      1.00       872\n",
      "         44       1.00      1.00      1.00      1187\n",
      "        999       1.00      1.00      1.00      8444\n",
      "\n",
      "avg / total       1.00      1.00      1.00     95674\n",
      "\n",
      "\n",
      "Summary confusion matrix:\n",
      "3 999 7\n",
      "4 999 0\n",
      "5 999 1\n",
      "6 999 0\n",
      "7 6 1\n",
      "8 37 7\n",
      "9 22 14\n",
      "12 999 0\n",
      "14 999 0\n",
      "15 999 0\n",
      "18 999 0\n",
      "19 999 1\n",
      "20 999 0\n",
      "21 9 3\n",
      "22 9 8\n",
      "23 999 0\n",
      "24 9 1\n",
      "25 999 0\n",
      "26 999 0\n",
      "27 9 3\n",
      "28 9 1\n",
      "29 999 0\n",
      "30 999 0\n",
      "31 999 1\n",
      "32 8 8\n",
      "33 8 1\n",
      "34 999 0\n",
      "35 8 19\n",
      "36 8 1\n",
      "37 8 10\n",
      "38 8 4\n",
      "39 8 3\n",
      "40 999 0\n",
      "41 999 0\n",
      "42 9 1\n",
      "43 999 0\n",
      "44 999 0\n",
      "999 5 15\n"
     ]
    }
   ],
   "source": [
    "# Set the classifier for reporting accuracy results \n",
    "if single_classifier:\n",
    "    my_clf = clf\n",
    "else:\n",
    "    my_clf = gs\n",
    "\n",
    "# Make predictions on the training data sparse matrix (sm)\n",
    "train_preds = my_clf.predict(train_features) \n",
    "\n",
    "# Collect predicted probabilities\n",
    "train_probs = my_clf.predict_proba(train_features)\n",
    "\n",
    "# Report various accuracy metrics\n",
    "print \"Log loss:\", round(metrics.log_loss(target,train_probs,eps=1e-15),3)\n",
    "print \"F1 score:\", round(metrics.f1_score(target,train_preds,average='micro'),3)\n",
    "print \"\"\n",
    "print \"Clasification Report:\"\n",
    "print classification_report(target,train_preds)\n",
    "print \"\"\n",
    "print \"Summary confusion matrix:\"\n",
    "cm = confusion_matrix(target,train_preds)\n",
    "for i in range(38):\n",
    "    max_wrong = 0\n",
    "    k = -1\n",
    "    for j in range(38):\n",
    "        if i != j:\n",
    "            if cm[i][j] > max_wrong:\n",
    "                k = j\n",
    "                max_wrong = cm[i][j]\n",
    "    print trip_types[i], trip_types[k], max_wrong \n"
   ]
  },
  {
   "cell_type": "code",
   "execution_count": 974,
   "metadata": {
    "collapsed": false
   },
   "outputs": [
    {
     "data": {
      "text/plain": [
       "(95674, 38)"
      ]
     },
     "execution_count": 974,
     "metadata": {},
     "output_type": "execute_result"
    }
   ],
   "source": [
    "# generate probabilities for output\n",
    "test_probs = my_clf.predict_proba(test_features) # make sure you are using the correct test data sparse matrix\n",
    "test_probs.shape"
   ]
  },
  {
   "cell_type": "code",
   "execution_count": 948,
   "metadata": {
    "collapsed": false
   },
   "outputs": [],
   "source": [
    "# Function to write probabilities to a csv file in the correct submission format\n",
    "def write_probs_to_file(vn,tt,probs):\n",
    "    # open file to write results\n",
    "    with open(\"walmart.csv\", \"w\") as results:\n",
    "        # write header\n",
    "        my_str = \"\"\n",
    "        my_str += '\"VisitNumber\"' + \",\" \n",
    "        for trip_num in tt[:-1]:\n",
    "            my_str += '\"TripType_' + str(trip_num) + '\"' + \",\"\n",
    "        my_str += '\"TripType_' + str(tt[-1]) + '\"' + \"\\n\" \n",
    "        results.write(my_str)\n",
    "        # write probs for each visit\n",
    "        for i in range(probs.shape[0]):\n",
    "            my_str = \"\"\n",
    "            my_str += str(vn[i]) + \",\" \n",
    "            for j in range(probs.shape[1]):\n",
    "                my_str += str(probs[i][j]) + \",\"\n",
    "            my_str = my_str[:-1] + \"\\n\"\n",
    "            results.write(my_str)\n",
    "\n"
   ]
  },
  {
   "cell_type": "code",
   "execution_count": 975,
   "metadata": {
    "collapsed": false
   },
   "outputs": [],
   "source": [
    "write_probs_to_file(test_visit_numbers,test_trip_types,test_probs)\n"
   ]
  },
  {
   "cell_type": "code",
   "execution_count": null,
   "metadata": {
    "collapsed": true
   },
   "outputs": [],
   "source": []
  }
 ],
 "metadata": {
  "anaconda-cloud": {},
  "kernelspec": {
   "display_name": "Python [conda root]",
   "language": "python",
   "name": "conda-root-py"
  },
  "language_info": {
   "codemirror_mode": {
    "name": "ipython",
    "version": 2
   },
   "file_extension": ".py",
   "mimetype": "text/x-python",
   "name": "python",
   "nbconvert_exporter": "python",
   "pygments_lexer": "ipython2",
   "version": "2.7.12"
  }
 },
 "nbformat": 4,
 "nbformat_minor": 1
}
